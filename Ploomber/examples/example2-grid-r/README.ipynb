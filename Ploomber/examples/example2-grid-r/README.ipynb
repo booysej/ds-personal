{
    "cells": [
        {
            "cell_type": "markdown",
            "id": "4edaf703",
            "metadata": {
                "papermill": {
                    "duration": 0.016245,
                    "end_time": "2022-05-12T02:31:57.865826",
                    "exception": false,
                    "start_time": "2022-05-12T02:31:57.849581",
                    "status": "completed"
                },
                "tags": []
            },
            "source": [
                "To run this locally, [install Ploomber](https://docs.ploomber.io/en/latest/get-started/quick-start.html) and execute: `ploomber examples -n cookbook/grid`\n",
                "\n",
                "[![binder-logo](https://raw.githubusercontent.com/ploomber/projects/master/_static/open-in-jupyterlab.svg)](https://binder.ploomber.io/v2/gh/ploomber/binder-env/main?urlpath=git-pull%3Frepo%3Dhttps%253A%252F%252Fgithub.com%252Fploomber%252Fprojects%26urlpath%3Dlab%252Ftree%252Fprojects%252Fcookbook/grid%252FREADME.ipynb%26branch%3Dmaster)\n",
                "\n",
                "Found an issue? [Let us know.](https://github.com/ploomber/projects/issues/new?title=cookbook/grid%20issue)\n",
                "\n",
                "Questions? [Ask us on Slack.](https://ploomber.io/community/)\n"
            ]
        },
        {
            "cell_type": "markdown",
            "id": "e5b8b827",
            "metadata": {
                "papermill": {
                    "duration": 0.010506,
                    "end_time": "2022-05-12T02:31:57.886687",
                    "exception": false,
                    "start_time": "2022-05-12T02:31:57.876181",
                    "status": "completed"
                },
                "tags": []
            },
            "source": [
                "# Task grids\n",
                "\n",
                "<!-- start description -->\n",
                "An example showing how to create a grid of tasks to train models with different parameters.\n",
                "<!-- end description -->"
            ]
        },
        {
            "cell_type": "markdown",
            "id": "75da99fb",
            "metadata": {
                "papermill": {
                    "duration": 0.010126,
                    "end_time": "2022-05-12T02:31:57.906567",
                    "exception": false,
                    "start_time": "2022-05-12T02:31:57.896441",
                    "status": "completed"
                },
                "region_name": "md",
                "tags": []
            },
            "source": [
                "```yaml\n",
                "# Content of pipeline.yaml\n",
                "  - source: scripts/fit.py\n",
                "    # generates tasks fit-1, fit-2, etc\n",
                "    name: fit-\n",
                "    # disabling static_analysis because the notebook does not have\n",
                "    # a fixed set of parameters (depends on random-forest vs ada-boost)\n",
                "    static_analysis: disable\n",
                "    product:\n",
                "      nb: products/report.html\n",
                "      model: products/model.pickle\n",
                "    grid:\n",
                "      # generates 6 tasks (1 * 3 * 2)\n",
                "      - model_type: [random-forest]\n",
                "        n_estimators: [1, 3, 5]\n",
                "        criterion: [gini, entropy]\n",
                "\n",
                "      # generates 6 tasks (1 * 3 * 2)\n",
                "      - model_type: [ada-boost]\n",
                "        n_estimators: [1, 3, 5]\n",
                "        learning_rate: [1, 2]\n",
                "```"
            ]
        },
        {
            "cell_type": "markdown",
            "id": "5fa9ca31",
            "metadata": {
                "papermill": {
                    "duration": 0.009404,
                    "end_time": "2022-05-12T02:31:57.925616",
                    "exception": false,
                    "start_time": "2022-05-12T02:31:57.916212",
                    "status": "completed"
                },
                "tags": []
            },
            "source": [
                "Run the pipeline:"
            ]
        },
        {
            "cell_type": "code",
            "execution_count": 1,
            "id": "49c3153e",
            "metadata": {
                "execution": {
                    "iopub.execute_input": "2022-05-12T02:31:57.953924Z",
                    "iopub.status.busy": "2022-05-12T02:31:57.952970Z",
                    "iopub.status.idle": "2022-05-12T02:32:38.923063Z",
                    "shell.execute_reply": "2022-05-12T02:32:38.921840Z"
                },
                "papermill": {
                    "duration": 40.987799,
                    "end_time": "2022-05-12T02:32:38.923413",
                    "exception": false,
                    "start_time": "2022-05-12T02:31:57.935614",
                    "status": "completed"
                },
                "tags": []
            },
            "outputs": [
                {
                    "name": "stdout",
                    "output_type": "stream",
                    "text": [
                        "Loading pipeline...\n",
                        "Remaining: 'features', 'fit-ada-boost-1-1', 'fit-ada-boost-1-2', 'fit-ada-boost-3-1', 'fit-ada-boost-3-2', 'fit-ada-boost-5-1', 'fit-ada-boost-5-2', 'fit-random-forest-1-entropy', 'fit-random-forest-1-gini', 'fit-random-forest-3-entropy', 'fit-random-forest-3-gini', 'fit-random-forest-5-entropy', 'fit-random-forest-5-gini', 'get', 'petal', and 'sepal'\n",
                        "Finished 0 out of 16 tasks\n",
                        "Finished: 'features', 'get', 'petal', and 'sepal'\n",
                        "Remaining: 'fit-ada-boost-1-1', 'fit-ada-boost-1-2', 'fit-ada-boost-3-1', 'fit-ada-boost-3-2', 'fit-ada-boost-5-1', 'fit-ada-boost-5-2', 'fit-random-forest-1-entropy', 'fit-random-forest-1-gini', 'fit-random-forest-3-entropy', 'fit-random-forest-3-gini', 'fit-random-forest-5-entropy', and 'fit-random-forest-5-gini'\n",
                        "Finished 4 out of 16 tasks\n"
                    ]
                },
                {
                    "name": "stderr",
                    "output_type": "stream",
                    "text": [
                        "Executing: 100%|██████████| 11/11 [00:08<00:00,  1.28cell/s]\n",
                        "Executing: 100%|██████████| 11/11 [00:06<00:00,  1.70cell/s]\n",
                        "Executing: 100%|██████████| 11/11 [00:06<00:00,  1.69cell/s]\n",
                        "Executing: 100%|██████████| 11/11 [00:06<00:00,  1.63cell/s]\n",
                        "Executing: 100%|██████████| 11/11 [00:06<00:00,  1.61cell/s]\n",
                        "Executing: 100%|██████████| 11/11 [00:06<00:00,  1.63cell/s]\n",
                        "Executing: 100%|██████████| 11/11 [00:06<00:00,  1.60cell/s]\n",
                        "Executing: 100%|██████████| 11/11 [00:06<00:00,  1.62cell/s]\n",
                        "Executing: 100%|██████████| 11/11 [00:06<00:00,  1.83cell/s]\n"
                    ]
                },
                {
                    "name": "stdout",
                    "output_type": "stream",
                    "text": [
                        "Finished: 'features', 'fit-ada-boost-1-1', 'fit-ada-boost-1-2', 'fit-ada-boost-3-1', 'fit-random-forest-1-entropy', 'fit-random-forest-1-gini', 'fit-random-forest-3-entropy', 'fit-random-forest-3-gini', 'fit-random-forest-5-entropy', 'fit-random-forest-5-gini', 'get', 'petal', and 'sepal'\n",
                        "Remaining: 'fit-ada-boost-3-2', 'fit-ada-boost-5-1', and 'fit-ada-boost-5-2'\n",
                        "Finished 13 out of 16 tasks\n"
                    ]
                },
                {
                    "name": "stderr",
                    "output_type": "stream",
                    "text": [
                        "Executing: 100%|██████████| 11/11 [00:04<00:00,  2.70cell/s]\n",
                        "Executing: 100%|██████████| 11/11 [00:03<00:00,  2.92cell/s]\n",
                        "Executing: 100%|██████████| 11/11 [00:03<00:00,  2.89cell/s]\n",
                        "100%|██████████| 16/16 [00:25<00:00,  1.58s/it]\n"
                    ]
                },
                {
                    "name": "stdout",
                    "output_type": "stream",
                    "text": [
                        "name                         Ran?      Elapsed (s)    Percentage\n",
                        "---------------------------  ------  -------------  ------------\n",
                        "get                          True         0.014759    0.0164705\n",
                        "sepal                        True         0.01224     0.0136594\n",
                        "petal                        True         0.003372    0.00376303\n",
                        "features                     True         0.011756    0.0131193\n",
                        "fit-random-forest-3-gini     True         9.92326    11.074\n",
                        "fit-random-forest-1-gini     True         8.15683     9.10272\n",
                        "fit-random-forest-1-entropy  True         8.50775     9.49434\n",
                        "fit-random-forest-3-entropy  True         8.60539     9.60329\n",
                        "fit-random-forest-5-gini     True         8.45622     9.43683\n",
                        "fit-random-forest-5-entropy  True         8.51818     9.50597\n",
                        "fit-ada-boost-1-1            True         8.13177     9.07476\n",
                        "fit-ada-boost-1-2            True         8.52543     9.51406\n",
                        "fit-ada-boost-3-1            True         6.82991     7.62193\n",
                        "fit-ada-boost-3-2            True         4.88474     5.45119\n",
                        "fit-ada-boost-5-1            True         4.55609     5.08443\n",
                        "fit-ada-boost-5-2            True         4.47099     4.98946\n"
                    ]
                }
            ],
            "source": [
                "%%sh\n",
                "ploomber build"
            ]
        }
    ],
    "metadata": {
        "kernelspec": {
            "display_name": "Python 3 (ipykernel)",
            "language": "python",
            "name": "python3"
        },
        "language_info": {
            "codemirror_mode": {
                "name": "ipython",
                "version": 3
            },
            "file_extension": ".py",
            "mimetype": "text/x-python",
            "name": "python",
            "nbconvert_exporter": "python",
            "pygments_lexer": "ipython3",
            "version": "3.10.12"
        },
        "papermill": {
            "default_parameters": {},
            "duration": 43.009111,
            "end_time": "2022-05-12T02:32:39.153893",
            "environment_variables": {},
            "exception": null,
            "input_path": "cookbook/grid/_build/readme_preprocessed.ipynb",
            "output_path": "cookbook/grid/README.ipynb",
            "parameters": {},
            "start_time": "2022-05-12T02:31:56.144782",
            "version": "2.3.4"
        }
    },
    "nbformat": 4,
    "nbformat_minor": 5
}
