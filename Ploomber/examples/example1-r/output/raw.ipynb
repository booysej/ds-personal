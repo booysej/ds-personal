{
 "cells": [
  {
   "cell_type": "code",
   "execution_count": 1,
   "id": "6426c4b1",
   "metadata": {
    "execution": {
     "iopub.execute_input": "2023-07-09T10:44:40.453958Z",
     "iopub.status.busy": "2023-07-09T10:44:40.451345Z",
     "iopub.status.idle": "2023-07-09T10:44:40.520791Z",
     "shell.execute_reply": "2023-07-09T10:44:40.518924Z"
    },
    "papermill": {
     "duration": 0.077725,
     "end_time": "2023-07-09T10:44:40.523260",
     "exception": false,
     "start_time": "2023-07-09T10:44:40.445535",
     "status": "completed"
    },
    "tags": [
     "parameters"
    ]
   },
   "outputs": [],
   "source": [
    "upstream = NULL\n",
    "product = NULL"
   ]
  },
  {
   "cell_type": "code",
   "execution_count": 2,
   "id": "a89ff5db",
   "metadata": {
    "execution": {
     "iopub.execute_input": "2023-07-09T10:44:40.565702Z",
     "iopub.status.busy": "2023-07-09T10:44:40.528815Z",
     "iopub.status.idle": "2023-07-09T10:44:40.582736Z",
     "shell.execute_reply": "2023-07-09T10:44:40.581159Z"
    },
    "papermill": {
     "duration": 0.059797,
     "end_time": "2023-07-09T10:44:40.584956",
     "exception": false,
     "start_time": "2023-07-09T10:44:40.525159",
     "status": "completed"
    },
    "tags": [
     "injected-parameters"
    ]
   },
   "outputs": [],
   "source": [
    "# Parameters\n",
    "product = list(\"nb\" = \"/Users/jacques/mnt/ds-personal/Ploomber/examples/example1-r/output/raw.ipynb\", \"data\" = \"/Users/jacques/mnt/ds-personal/Ploomber/examples/example1-r/output/raw.csv\")\n"
   ]
  },
  {
   "cell_type": "code",
   "execution_count": 3,
   "id": "f89b8735",
   "metadata": {
    "execution": {
     "iopub.execute_input": "2023-07-09T10:44:40.592931Z",
     "iopub.status.busy": "2023-07-09T10:44:40.591641Z",
     "iopub.status.idle": "2023-07-09T10:44:40.613341Z",
     "shell.execute_reply": "2023-07-09T10:44:40.611179Z"
    },
    "papermill": {
     "duration": 0.027387,
     "end_time": "2023-07-09T10:44:40.615854",
     "exception": false,
     "start_time": "2023-07-09T10:44:40.588467",
     "status": "completed"
    },
    "tags": []
   },
   "outputs": [],
   "source": [
    "data(iris)\n",
    "colnames(iris) = list('sepal_length', 'sepal_width','petal_length', 'petal_width', 'class')\n",
    "if (!dir.exists('output')) dir.create('output')\n",
    "write.csv(iris, product$data)"
   ]
  }
 ],
 "metadata": {
  "jupytext": {
   "cell_metadata_filter": "tags,-all",
   "main_language": "R",
   "notebook_metadata_filter": "-all",
   "text_representation": {
    "extension": ".R",
    "format_name": "light"
   }
  },
  "kernelspec": {
   "display_name": "R",
   "language": "R",
   "name": "ir"
  },
  "language_info": {
   "codemirror_mode": "r",
   "file_extension": ".r",
   "mimetype": "text/x-r-source",
   "name": "R",
   "pygments_lexer": "r",
   "version": "4.2.2"
  },
  "papermill": {
   "duration": 1.592922,
   "end_time": "2023-07-09T10:44:40.739086",
   "exception": null,
   "input_path": "/var/folders/cf/bcm1lkdd07vblzcv6y97pd7m0000gn/T/tmpivhev21f.ipynb",
   "output_path": "/Users/jacques/mnt/ds-personal/Ploomber/examples/example1-r/output/raw.ipynb",
   "parameters": {
    "product": {
     "data": "/Users/jacques/mnt/ds-personal/Ploomber/examples/example1-r/output/raw.csv",
     "nb": "/Users/jacques/mnt/ds-personal/Ploomber/examples/example1-r/output/raw.ipynb"
    }
   },
   "start_time": "2023-07-09T10:44:39.146164"
  }
 },
 "nbformat": 4,
 "nbformat_minor": 5
}