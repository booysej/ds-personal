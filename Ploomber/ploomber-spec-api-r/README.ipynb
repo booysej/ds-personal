{
    "cells": [
        {
            "cell_type": "markdown",
            "id": "e4f0c5d7",
            "metadata": {
                "papermill": {
                    "duration": 0.016574,
                    "end_time": "2021-11-11T00:38:11.876790",
                    "exception": false,
                    "start_time": "2021-11-11T00:38:11.860216",
                    "status": "completed"
                },
                "tags": []
            },
            "source": [
                "To run this locally, [install Ploomber](https://docs.ploomber.io/en/latest/get-started/quick-start.html) and execute: `ploomber examples -n templates/spec-api-r`\n",
                "\n",
                "[![binder-logo](https://raw.githubusercontent.com/ploomber/projects/master/_static/open-in-jupyterlab.svg)](https://binder.ploomber.io/v2/gh/ploomber/binder-env/main?urlpath=git-pull%3Frepo%3Dhttps%253A%252F%252Fgithub.com%252Fploomber%252Fprojects%26urlpath%3Dlab%252Ftree%252Fprojects%252Ftemplates/spec-api-r%252FREADME.ipynb%26branch%3Dmaster)\n",
                "\n",
                "Found an issue? [Let us know.](https://github.com/ploomber/projects/issues/new?title=templates/spec-api-r%20issue)\n",
                "\n",
                "Questions? [Ask us on Slack.](https://ploomber.io/community/)\n"
            ]
        },
        {
            "cell_type": "markdown",
            "id": "f3af9acc",
            "metadata": {
                "papermill": {
                    "duration": 0.018088,
                    "end_time": "2021-11-11T00:38:11.910505",
                    "exception": false,
                    "start_time": "2021-11-11T00:38:11.892417",
                    "status": "completed"
                },
                "tags": []
            },
            "source": [
                "# R pipeline\n",
                "\n",
                "<!-- start description -->\n",
                "Load, clean and plot data with R.\n",
                "<!-- end description -->\n",
                "\n",
                "**Note:** If using conda (`environment.yml`), R will be installed and configured. If using pip (`requirements.txt`), you must install R and [configure it yourself]( https://github.com/IRkernel/IRkernel)."
            ]
        },
        {
            "cell_type": "markdown",
            "id": "354ba42e",
            "metadata": {
                "papermill": {
                    "duration": 0.013736,
                    "end_time": "2021-11-11T00:38:11.940623",
                    "exception": false,
                    "start_time": "2021-11-11T00:38:11.926887",
                    "status": "completed"
                },
                "tags": []
            },
            "source": [
                "## Pipeline description\n",
                "\n",
                "This pipeline contains three tasks. The last task generates a plot. To get the\n",
                "pipeline description:"
            ]
        },
        {
            "cell_type": "code",
            "execution_count": null,
            "id": "44259723",
            "metadata": {
                "execution": {
                    "iopub.execute_input": "2021-11-11T00:38:11.977372Z",
                    "iopub.status.busy": "2021-11-11T00:38:11.976544Z",
                    "iopub.status.idle": "2021-11-11T00:38:15.498794Z",
                    "shell.execute_reply": "2021-11-11T00:38:15.499369Z"
                },
                "papermill": {
                    "duration": 3.545341,
                    "end_time": "2021-11-11T00:38:15.499797",
                    "exception": false,
                    "start_time": "2021-11-11T00:38:11.954456",
                    "status": "completed"
                },
                "tags": []
            },
            "outputs": [],
            "source": [
                "%%bash\n",
                "ploomber status"
            ]
        },
        {
            "cell_type": "markdown",
            "id": "9ff8e777",
            "metadata": {
                "papermill": {
                    "duration": 0.020258,
                    "end_time": "2021-11-11T00:38:15.543094",
                    "exception": false,
                    "start_time": "2021-11-11T00:38:15.522836",
                    "status": "completed"
                },
                "tags": []
            },
            "source": [
                "## Build the pipeline from the command line"
            ]
        },
        {
            "cell_type": "code",
            "execution_count": null,
            "id": "da0b3f77",
            "metadata": {
                "execution": {
                    "iopub.execute_input": "2021-11-11T00:38:15.590472Z",
                    "iopub.status.busy": "2021-11-11T00:38:15.589730Z",
                    "iopub.status.idle": "2021-11-11T00:38:25.049477Z",
                    "shell.execute_reply": "2021-11-11T00:38:25.050187Z"
                },
                "papermill": {
                    "duration": 9.483104,
                    "end_time": "2021-11-11T00:38:25.050474",
                    "exception": false,
                    "start_time": "2021-11-11T00:38:15.567370",
                    "status": "completed"
                },
                "tags": []
            },
            "outputs": [],
            "source": [
                "%%bash\n",
                "mkdir output\n",
                "ploomber build"
            ]
        },
        {
            "cell_type": "markdown",
            "id": "b09fe340",
            "metadata": {
                "papermill": {
                    "duration": 0.032315,
                    "end_time": "2021-11-11T00:38:25.102291",
                    "exception": false,
                    "start_time": "2021-11-11T00:38:25.069976",
                    "status": "completed"
                },
                "tags": []
            },
            "source": [
                "Output stored in the ``output/`` directory."
            ]
        }
    ],
    "metadata": {
        "kernelspec": {
            "display_name": "modelling",
            "language": "python",
            "name": "python3"
        },
        "language_info": {
            "codemirror_mode": {
                "name": "ipython",
                "version": 3
            },
            "file_extension": ".py",
            "mimetype": "text/x-python",
            "name": "python",
            "nbconvert_exporter": "python",
            "pygments_lexer": "ipython3",
            "version": "3.9.16"
        },
        "papermill": {
            "default_parameters": {},
            "duration": 15.252639,
            "end_time": "2021-11-11T00:38:25.365990",
            "environment_variables": {},
            "exception": null,
            "input_path": "templates/spec-api-r/_build/readme_preprocessed.ipynb",
            "output_path": "templates/spec-api-r/README.ipynb",
            "parameters": {},
            "start_time": "2021-11-11T00:38:10.113351",
            "version": "2.3.3"
        }
    },
    "nbformat": 4,
    "nbformat_minor": 5
}
