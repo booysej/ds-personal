{
 "cells": [
  {
   "cell_type": "code",
   "execution_count": 1,
   "id": "c2495913",
   "metadata": {
    "execution": {
     "iopub.execute_input": "2023-07-08T11:14:56.985064Z",
     "iopub.status.busy": "2023-07-08T11:14:56.982510Z",
     "iopub.status.idle": "2023-07-08T11:14:57.057399Z",
     "shell.execute_reply": "2023-07-08T11:14:57.055396Z"
    },
    "papermill": {
     "duration": 0.082292,
     "end_time": "2023-07-08T11:14:57.059631",
     "exception": false,
     "start_time": "2023-07-08T11:14:56.977339",
     "status": "completed"
    },
    "tags": [
     "parameters"
    ]
   },
   "outputs": [],
   "source": [
    "upstream = NULL\n",
    "product = NULL"
   ]
  },
  {
   "cell_type": "code",
   "execution_count": 2,
   "id": "3dbe0d7a",
   "metadata": {
    "execution": {
     "iopub.execute_input": "2023-07-08T11:14:57.098562Z",
     "iopub.status.busy": "2023-07-08T11:14:57.065354Z",
     "iopub.status.idle": "2023-07-08T11:14:57.114451Z",
     "shell.execute_reply": "2023-07-08T11:14:57.112910Z"
    },
    "papermill": {
     "duration": 0.05479,
     "end_time": "2023-07-08T11:14:57.116481",
     "exception": false,
     "start_time": "2023-07-08T11:14:57.061691",
     "status": "completed"
    },
    "tags": [
     "injected-parameters"
    ]
   },
   "outputs": [],
   "source": [
    "# Parameters\n",
    "product = list(\"nb\" = \"/Users/jacques/mnt/ds-personal/Ploomber/part1-r/example1-r/output/raw.ipynb\", \"data\" = \"/Users/jacques/mnt/ds-personal/Ploomber/part1-r/example1-r/output/raw.csv\")\n"
   ]
  },
  {
   "cell_type": "code",
   "execution_count": 3,
   "id": "c089a2e9",
   "metadata": {
    "execution": {
     "iopub.execute_input": "2023-07-08T11:14:57.121258Z",
     "iopub.status.busy": "2023-07-08T11:14:57.120162Z",
     "iopub.status.idle": "2023-07-08T11:14:57.143089Z",
     "shell.execute_reply": "2023-07-08T11:14:57.141407Z"
    },
    "papermill": {
     "duration": 0.027853,
     "end_time": "2023-07-08T11:14:57.145579",
     "exception": false,
     "start_time": "2023-07-08T11:14:57.117726",
     "status": "completed"
    },
    "tags": []
   },
   "outputs": [],
   "source": [
    "data(iris)\n",
    "colnames(iris) = list('sepal_length', 'sepal_width','petal_length', 'petal_width', 'class')\n",
    "if (!dir.exists('output')) dir.create('output')\n",
    "write.csv(iris, product$data)"
   ]
  }
 ],
 "metadata": {
  "jupytext": {
   "cell_metadata_filter": "tags,-all",
   "main_language": "R",
   "notebook_metadata_filter": "-all",
   "text_representation": {
    "extension": ".R",
    "format_name": "light"
   }
  },
  "kernelspec": {
   "display_name": "R",
   "language": "R",
   "name": "ir"
  },
  "language_info": {
   "codemirror_mode": "r",
   "file_extension": ".r",
   "mimetype": "text/x-r-source",
   "name": "R",
   "pygments_lexer": "r",
   "version": "4.2.2"
  },
  "papermill": {
   "duration": 1.669547,
   "end_time": "2023-07-08T11:14:57.268271",
   "exception": null,
   "input_path": "/var/folders/cf/bcm1lkdd07vblzcv6y97pd7m0000gn/T/tmpnns4rw3y.ipynb",
   "output_path": "/Users/jacques/mnt/ds-personal/Ploomber/part1-r/example1-r/output/raw.ipynb",
   "parameters": {
    "product": {
     "data": "/Users/jacques/mnt/ds-personal/Ploomber/part1-r/example1-r/output/raw.csv",
     "nb": "/Users/jacques/mnt/ds-personal/Ploomber/part1-r/example1-r/output/raw.ipynb"
    }
   },
   "start_time": "2023-07-08T11:14:55.598724"
  }
 },
 "nbformat": 4,
 "nbformat_minor": 5
}