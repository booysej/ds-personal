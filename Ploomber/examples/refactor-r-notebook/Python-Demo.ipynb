{
    "cells": [
        {
            "cell_type": "markdown",
            "id": "0923bba6",
            "metadata": {
                "papermill": {
                    "duration": 0.044581,
                    "end_time": "2022-05-13T23:51:24.307356",
                    "exception": false,
                    "start_time": "2022-05-13T23:51:24.262775",
                    "status": "completed"
                },
                "tags": []
            },
            "source": [
                "To run this locally, [install Ploomber](https://docs.ploomber.io/en/latest/get-started/quick-start.html) and execute: `ploomber examples -n guides/refactor`\n",
                "\n",
                "[![binder-logo](https://raw.githubusercontent.com/ploomber/projects/master/_static/open-in-jupyterlab.svg)](https://binder.ploomber.io/v2/gh/ploomber/binder-env/main?urlpath=git-pull%3Frepo%3Dhttps%253A%252F%252Fgithub.com%252Fploomber%252Fprojects%26urlpath%3Dlab%252Ftree%252Fprojects%252Fguides/refactor%252FREADME.ipynb%26branch%3Dmaster)\n",
                "\n",
                "Found an issue? [Let us know.](https://github.com/ploomber/projects/issues/new?title=guides/refactor%20issue)\n",
                "\n",
                "Questions? [Ask us on Slack.](https://ploomber.io/community/)\n",
                "\n"
            ]
        },
        {
            "cell_type": "code",
            "execution_count": 1,
            "id": "19407869",
            "metadata": {
                "execution": {
                    "iopub.execute_input": "2022-05-13T23:51:24.397932Z",
                    "iopub.status.busy": "2022-05-13T23:51:24.397289Z",
                    "iopub.status.idle": "2022-05-13T23:51:24.401192Z",
                    "shell.execute_reply": "2022-05-13T23:51:24.401680Z"
                },
                "papermill": {
                    "duration": 0.053734,
                    "end_time": "2022-05-13T23:51:24.402001",
                    "exception": false,
                    "start_time": "2022-05-13T23:51:24.348267",
                    "status": "completed"
                },
                "tags": []
            },
            "outputs": [],
            "source": [
                "import os\n",
                "from pathlib import Path\n",
                "import shutil\n",
                "\n",
                "from IPython.display import Image"
            ]
        },
        {
            "cell_type": "markdown",
            "id": "5baceffb",
            "metadata": {
                "papermill": {
                    "duration": 0.040667,
                    "end_time": "2022-05-13T23:51:24.482591",
                    "exception": false,
                    "start_time": "2022-05-13T23:51:24.441924",
                    "status": "completed"
                },
                "tags": []
            },
            "source": [
                "# Notebook refactoring\n",
                "\n",
                "<!-- start description -->\n",
                "Using Soorgeon to convert a notebook into a Ploomber pipeline.\n",
                "<!-- end description -->\n",
                "\n",
                "[Soorgeon](https://github.com/ploomber/soorgeon) is a tool from the Ploomber ecosystem that allows you to convert monolithic notebooks into maintainable pipelines.\n",
                "\n",
                "We have to examples, an exploratory data analysis notebook (`eda.ipynb`), and a Machine Learning notebook (`ml.ipynb`).\n",
                "\n",
                "## Refactoring `eda.ipynb`\n",
                "\n",
                "Before we proceed, open `eda.ipynb` to see how the code looks like, you'll notice that we have three sections (load, clean, and plot). Soorgeon uses H2 markdown headings to determine where to split the tasks in the output pipeline.\n",
                "\n",
                "Let's execute the refactoring command:"
            ]
        },
        {
            "cell_type": "code",
            "execution_count": 2,
            "id": "099c668e",
            "metadata": {
                "execution": {
                    "iopub.execute_input": "2022-05-13T23:51:24.571213Z",
                    "iopub.status.busy": "2022-05-13T23:51:24.570567Z",
                    "iopub.status.idle": "2022-05-13T23:51:25.456347Z",
                    "shell.execute_reply": "2022-05-13T23:51:25.457005Z"
                },
                "papermill": {
                    "duration": 0.932799,
                    "end_time": "2022-05-13T23:51:25.457257",
                    "exception": false,
                    "start_time": "2022-05-13T23:51:24.524458",
                    "status": "completed"
                },
                "tags": []
            },
            "outputs": [
                {
                    "name": "stdout",
                    "output_type": "stream",
                    "text": [
                        "Added 'output' directory to .gitignore...\n",
                        "README.md found, appended auto-generated content\n",
                        "Finished refactoring 'eda.ipynb', use Ploomber to continue.\n",
                        "\n",
                        "Install dependencies (this will install ploomber):\n",
                        "    $ pip install -r requirements.txt\n",
                        "\n",
                        "List tasks:\n",
                        "    $ ploomber status\n",
                        "\n",
                        "Execute pipeline:\n",
                        "    $ ploomber build\n",
                        "\n",
                        "Plot pipeline:\n",
                        "    $ ploomber plot\n",
                        "\n",
                        "* Documentation: https://docs.ploomber.io\n",
                        "* Jupyter integration: https://ploomber.io/s/jupyter\n",
                        "* Other editors: https://ploomber.io/s/editors\n",
                        "\n"
                    ]
                }
            ],
            "source": [
                "%%sh\n",
                "soorgeon refactor eda.ipynb"
            ]
        },
        {
            "cell_type": "markdown",
            "id": "919ec346",
            "metadata": {
                "papermill": {
                    "duration": 0.041583,
                    "end_time": "2022-05-13T23:51:25.539974",
                    "exception": false,
                    "start_time": "2022-05-13T23:51:25.498391",
                    "status": "completed"
                },
                "tags": []
            },
            "source": [
                "Let's generate the pipeline diagram (note: if you're running this locally, you must install `pygraphviz` first):"
            ]
        },
        {
            "cell_type": "code",
            "execution_count": 3,
            "id": "6e8cbeff",
            "metadata": {
                "execution": {
                    "iopub.execute_input": "2022-05-13T23:51:25.626889Z",
                    "iopub.status.busy": "2022-05-13T23:51:25.623639Z",
                    "iopub.status.idle": "2022-05-13T23:51:30.716071Z",
                    "shell.execute_reply": "2022-05-13T23:51:30.716550Z"
                },
                "papermill": {
                    "duration": 5.137279,
                    "end_time": "2022-05-13T23:51:30.716785",
                    "exception": false,
                    "start_time": "2022-05-13T23:51:25.579506",
                    "status": "completed"
                },
                "tags": []
            },
            "outputs": [
                {
                    "name": "stdout",
                    "output_type": "stream",
                    "text": [
                        "Loading pipeline...\n"
                    ]
                },
                {
                    "name": "stderr",
                    "output_type": "stream",
                    "text": [
                        "100%|██████████| 3/3 [00:00<00:00, 1853.97it/s]\n"
                    ]
                },
                {
                    "name": "stdout",
                    "output_type": "stream",
                    "text": [
                        "Plot saved at: pipeline.png\n"
                    ]
                }
            ],
            "source": [
                "%%sh\n",
                "ploomber plot"
            ]
        },
        {
            "cell_type": "code",
            "execution_count": 4,
            "id": "f035ef97",
            "metadata": {
                "execution": {
                    "iopub.execute_input": "2022-05-13T23:51:30.811470Z",
                    "iopub.status.busy": "2022-05-13T23:51:30.804733Z",
                    "iopub.status.idle": "2022-05-13T23:51:30.815561Z",
                    "shell.execute_reply": "2022-05-13T23:51:30.816050Z"
                },
                "papermill": {
                    "duration": 0.058185,
                    "end_time": "2022-05-13T23:51:30.816287",
                    "exception": false,
                    "start_time": "2022-05-13T23:51:30.758102",
                    "status": "completed"
                },
                "tags": []
            },
            "outputs": [
                {
                    "data": {
                        "image/png": "[encoded data removed]",
                        "text/plain": [
                            "<IPython.core.display.Image object>"
                        ]
                    },
                    "execution_count": 4,
                    "metadata": {},
                    "output_type": "execute_result"
                }
            ],
            "source": [
                "Image('pipeline.png')\n",
                "# NOTE: ploomber plot will generate a pipeline.html (not .png) file if\n",
                "# pygraphviz is missing. In such case, open the file to view the pipeline plot"
            ]
        },
        {
            "cell_type": "markdown",
            "id": "ece80ba6",
            "metadata": {
                "papermill": {
                    "duration": 0.043313,
                    "end_time": "2022-05-13T23:51:30.902096",
                    "exception": false,
                    "start_time": "2022-05-13T23:51:30.858783",
                    "status": "completed"
                },
                "tags": []
            },
            "source": [
                "We can see that `soorgeon refactor` generated a Ploomber pipeline with one task per notebook section. The source code for each task is in the `tasks/` folder:"
            ]
        },
        {
            "cell_type": "code",
            "execution_count": 5,
            "id": "f7dccfef",
            "metadata": {
                "execution": {
                    "iopub.execute_input": "2022-05-13T23:51:30.995297Z",
                    "iopub.status.busy": "2022-05-13T23:51:30.994523Z",
                    "iopub.status.idle": "2022-05-13T23:51:30.997371Z",
                    "shell.execute_reply": "2022-05-13T23:51:30.997837Z"
                },
                "papermill": {
                    "duration": 0.052682,
                    "end_time": "2022-05-13T23:51:30.998060",
                    "exception": false,
                    "start_time": "2022-05-13T23:51:30.945378",
                    "status": "completed"
                },
                "tags": []
            },
            "outputs": [
                {
                    "name": "stdout",
                    "output_type": "stream",
                    "text": [
                        "load.ipynb\n",
                        "plot.ipynb\n",
                        "random-forest-regressor.ipynb\n",
                        "linear-regression.ipynb\n",
                        "clean.ipynb\n",
                        "train-test-split.ipynb\n"
                    ]
                }
            ],
            "source": [
                "print('\\n'.join(os.listdir('tasks')))"
            ]
        },
        {
            "cell_type": "markdown",
            "id": "8e20a3ad",
            "metadata": {
                "papermill": {
                    "duration": 0.045607,
                    "end_time": "2022-05-13T23:51:31.090174",
                    "exception": false,
                    "start_time": "2022-05-13T23:51:31.044567",
                    "status": "completed"
                },
                "tags": []
            },
            "source": [
                "Each task is a `.py` file, however, as with any other Ploomber pipeline, you can open those scripts as notebooks by doing `Right click -> Open With -> Notebook`.\n",
                "\n",
                "The command also generates a `pipeline.yaml` file, which is the file Ploomber uses to read your pipeline:"
            ]
        },
        {
            "cell_type": "code",
            "execution_count": 6,
            "id": "fbb0a0bd",
            "metadata": {
                "execution": {
                    "iopub.execute_input": "2022-05-13T23:51:31.179053Z",
                    "iopub.status.busy": "2022-05-13T23:51:31.178313Z",
                    "iopub.status.idle": "2022-05-13T23:51:31.181118Z",
                    "shell.execute_reply": "2022-05-13T23:51:31.181750Z"
                },
                "papermill": {
                    "duration": 0.049585,
                    "end_time": "2022-05-13T23:51:31.181978",
                    "exception": false,
                    "start_time": "2022-05-13T23:51:31.132393",
                    "status": "completed"
                },
                "tags": []
            },
            "outputs": [
                {
                    "name": "stdout",
                    "output_type": "stream",
                    "text": [
                        "tasks:\n",
                        "\n",
                        "- source: tasks/load.ipynb\n",
                        "  product:\n",
                        "    df: output/load-df.pkl\n",
                        "    nb: output/load.ipynb\n",
                        "\n",
                        "- source: tasks/clean.ipynb\n",
                        "  product:\n",
                        "    df: output/clean-df.pkl\n",
                        "    nb: output/clean.ipynb\n",
                        "\n",
                        "- source: tasks/plot.ipynb\n",
                        "  product:\n",
                        "    nb: output/plot.ipynb\n",
                        "\n"
                    ]
                }
            ],
            "source": [
                "print(Path('pipeline.yaml').read_text())"
            ]
        },
        {
            "cell_type": "markdown",
            "id": "26e28b94",
            "metadata": {
                "papermill": {
                    "duration": 0.044672,
                    "end_time": "2022-05-13T23:51:31.270119",
                    "exception": false,
                    "start_time": "2022-05-13T23:51:31.225447",
                    "status": "completed"
                },
                "tags": []
            },
            "source": [
                "Let's run the pipeline:"
            ]
        },
        {
            "cell_type": "code",
            "execution_count": 7,
            "id": "74ee482b",
            "metadata": {
                "execution": {
                    "iopub.execute_input": "2022-05-13T23:51:31.362359Z",
                    "iopub.status.busy": "2022-05-13T23:51:31.361568Z",
                    "iopub.status.idle": "2022-05-13T23:51:45.801082Z",
                    "shell.execute_reply": "2022-05-13T23:51:45.801729Z"
                },
                "papermill": {
                    "duration": 14.489499,
                    "end_time": "2022-05-13T23:51:45.801994",
                    "exception": false,
                    "start_time": "2022-05-13T23:51:31.312495",
                    "status": "completed"
                },
                "tags": []
            },
            "outputs": [
                {
                    "name": "stdout",
                    "output_type": "stream",
                    "text": [
                        "Loading pipeline...\n"
                    ]
                },
                {
                    "name": "stderr",
                    "output_type": "stream",
                    "text": [
                        "Building task 'load':   0%|          | 0/3 [00:00<?, ?it/s]\n",
                        "Executing:   0%|          | 0/6 [00:00<?, ?cell/s]\n",
                        "Executing:  17%|█▋        | 1/6 [00:01<00:08,  1.77s/cell]\n",
                        "Executing: 100%|██████████| 6/6 [00:02<00:00,  2.35cell/s]\n",
                        "Building task 'clean':  33%|███▎      | 1/3 [00:02<00:05,  2.58s/it]\n",
                        "Executing:   0%|          | 0/10 [00:00<?, ?cell/s]\n",
                        "Executing:  10%|█         | 1/10 [00:01<00:10,  1.21s/cell]\n",
                        "Executing:  40%|████      | 4/10 [00:01<00:01,  3.01cell/s]\n",
                        "Executing: 100%|██████████| 10/10 [00:02<00:00,  4.95cell/s]\n",
                        "Building task 'plot':  67%|██████▋   | 2/3 [00:04<00:02,  2.26s/it] \n",
                        "Executing:   0%|          | 0/6 [00:00<?, ?cell/s]\n",
                        "Executing:  17%|█▋        | 1/6 [00:02<00:12,  2.59s/cell]\n",
                        "Executing: 100%|██████████| 6/6 [00:03<00:00,  1.70cell/s]\n",
                        "Building task 'plot': 100%|██████████| 3/3 [00:08<00:00,  2.72s/it]\n"
                    ]
                },
                {
                    "name": "stdout",
                    "output_type": "stream",
                    "text": [
                        "name    Ran?      Elapsed (s)    Percentage\n",
                        "------  ------  -------------  ------------\n",
                        "load    True          2.57258       31.5727\n",
                        "clean   True          2.03283       24.9485\n",
                        "plot    True          3.54269       43.4788\n"
                    ]
                }
            ],
            "source": [
                "%%sh\n",
                "ploomber build"
            ]
        },
        {
            "cell_type": "markdown",
            "id": "a7e99fd1",
            "metadata": {
                "papermill": {
                    "duration": 0.047005,
                    "end_time": "2022-05-13T23:51:45.897388",
                    "exception": false,
                    "start_time": "2022-05-13T23:51:45.850383",
                    "status": "completed"
                },
                "tags": []
            },
            "source": [
                "Let's now refactor a more complex notebook."
            ]
        },
        {
            "cell_type": "code",
            "execution_count": 8,
            "id": "87ea63b4",
            "metadata": {
                "execution": {
                    "iopub.execute_input": "2022-05-13T23:51:46.004312Z",
                    "iopub.status.busy": "2022-05-13T23:51:46.003446Z",
                    "iopub.status.idle": "2022-05-13T23:51:46.010211Z",
                    "shell.execute_reply": "2022-05-13T23:51:46.010713Z"
                },
                "papermill": {
                    "duration": 0.062907,
                    "end_time": "2022-05-13T23:51:46.010958",
                    "exception": false,
                    "start_time": "2022-05-13T23:51:45.948051",
                    "status": "completed"
                },
                "tags": []
            },
            "outputs": [],
            "source": [
                "# clean up the files from this pipeline\n",
                "if Path('tasks').exists():\n",
                "    shutil.rmtree('tasks')\n",
                "\n",
                "if Path('output').exists():\n",
                "    shutil.rmtree('output')\n",
                "    \n",
                "if Path('pipeline.yaml').exists():\n",
                "    Path('pipeline.yaml').unlink()"
            ]
        },
        {
            "cell_type": "markdown",
            "id": "3957306d",
            "metadata": {
                "papermill": {
                    "duration": 0.047468,
                    "end_time": "2022-05-13T23:51:46.104489",
                    "exception": false,
                    "start_time": "2022-05-13T23:51:46.057021",
                    "status": "completed"
                },
                "tags": []
            },
            "source": [
                "## Refactoring `ml.ipynb`\n",
                "\n",
                "`ml.ipynb` is a Machine Learning pipeline that prepares a training set and then trains two models, let's refactor it:"
            ]
        },
        {
            "cell_type": "code",
            "execution_count": 9,
            "id": "3b23eb78",
            "metadata": {
                "execution": {
                    "iopub.execute_input": "2022-05-13T23:51:46.200741Z",
                    "iopub.status.busy": "2022-05-13T23:51:46.198031Z",
                    "iopub.status.idle": "2022-05-13T23:51:47.154820Z",
                    "shell.execute_reply": "2022-05-13T23:51:47.155396Z"
                },
                "papermill": {
                    "duration": 1.005707,
                    "end_time": "2022-05-13T23:51:47.155641",
                    "exception": false,
                    "start_time": "2022-05-13T23:51:46.149934",
                    "status": "completed"
                },
                "tags": []
            },
            "outputs": [
                {
                    "name": "stdout",
                    "output_type": "stream",
                    "text": [
                        "Added 'output' directory to .gitignore...\n",
                        "README.md found, appended auto-generated content\n",
                        "Finished refactoring 'ml.ipynb', use Ploomber to continue.\n",
                        "\n",
                        "Install dependencies (this will install ploomber):\n",
                        "    $ pip install -r requirements.txt\n",
                        "\n",
                        "List tasks:\n",
                        "    $ ploomber status\n",
                        "\n",
                        "Execute pipeline:\n",
                        "    $ ploomber build\n",
                        "\n",
                        "Plot pipeline:\n",
                        "    $ ploomber plot\n",
                        "\n",
                        "* Documentation: https://docs.ploomber.io\n",
                        "* Jupyter integration: https://ploomber.io/s/jupyter\n",
                        "* Other editors: https://ploomber.io/s/editors\n",
                        "\n"
                    ]
                }
            ],
            "source": [
                "%%sh\n",
                "soorgeon refactor ml.ipynb"
            ]
        },
        {
            "cell_type": "markdown",
            "id": "b3531b2f",
            "metadata": {
                "papermill": {
                    "duration": 0.047569,
                    "end_time": "2022-05-13T23:51:47.247746",
                    "exception": false,
                    "start_time": "2022-05-13T23:51:47.200177",
                    "status": "completed"
                },
                "tags": []
            },
            "source": [
                "Let's see the diagram:"
            ]
        },
        {
            "cell_type": "code",
            "execution_count": 10,
            "id": "d6883df0",
            "metadata": {
                "execution": {
                    "iopub.execute_input": "2022-05-13T23:51:47.351456Z",
                    "iopub.status.busy": "2022-05-13T23:51:47.350526Z",
                    "iopub.status.idle": "2022-05-13T23:51:52.646516Z",
                    "shell.execute_reply": "2022-05-13T23:51:52.647162Z"
                },
                "papermill": {
                    "duration": 5.352435,
                    "end_time": "2022-05-13T23:51:52.647416",
                    "exception": false,
                    "start_time": "2022-05-13T23:51:47.294981",
                    "status": "completed"
                },
                "tags": []
            },
            "outputs": [
                {
                    "name": "stdout",
                    "output_type": "stream",
                    "text": [
                        "Loading pipeline...\n"
                    ]
                },
                {
                    "name": "stderr",
                    "output_type": "stream",
                    "text": [
                        "100%|██████████| 5/5 [00:00<00:00, 4600.03it/s]\n"
                    ]
                },
                {
                    "name": "stdout",
                    "output_type": "stream",
                    "text": [
                        "Plot saved at: pipeline.png\n"
                    ]
                }
            ],
            "source": [
                "%%sh\n",
                "ploomber plot"
            ]
        },
        {
            "cell_type": "code",
            "execution_count": 20,
            "id": "cae39d90",
            "metadata": {
                "execution": {
                    "iopub.execute_input": "2022-05-13T23:51:52.750504Z",
                    "iopub.status.busy": "2022-05-13T23:51:52.749694Z",
                    "iopub.status.idle": "2022-05-13T23:51:52.754857Z",
                    "shell.execute_reply": "2022-05-13T23:51:52.755339Z"
                },
                "papermill": {
                    "duration": 0.059669,
                    "end_time": "2022-05-13T23:51:52.755698",
                    "exception": false,
                    "start_time": "2022-05-13T23:51:52.696029",
                    "status": "completed"
                },
                "tags": []
            },
            "outputs": [
                {
                    "data": {
                        "image/png": "[encoded data removed]",
                        "text/plain": [
                            "<IPython.core.display.Image object>"
                        ]
                    },
                    "execution_count": 20,
                    "metadata": {},
                    "output_type": "execute_result"
                }
            ],
            "source": [
                "Image('pipeline.png')"
            ]
        },
        {
            "cell_type": "markdown",
            "id": "2ade4d53",
            "metadata": {
                "papermill": {
                    "duration": 0.048856,
                    "end_time": "2022-05-13T23:51:52.853006",
                    "exception": false,
                    "start_time": "2022-05-13T23:51:52.804150",
                    "status": "completed"
                },
                "tags": []
            },
            "source": [
                "We see that `soorgeon refactor` accurately determined the dependencies among sections, even identifying that the model training tasks (`linear-regression` and `random-forest-regressor`) are independent of each other and can run in parallel.\n",
                "\n",
                "Let's run the pipeline:"
            ]
        },
        {
            "cell_type": "code",
            "execution_count": 11,
            "id": "38c9b60a",
            "metadata": {
                "execution": {
                    "iopub.execute_input": "2022-05-13T23:51:52.957054Z",
                    "iopub.status.busy": "2022-05-13T23:51:52.956406Z",
                    "iopub.status.idle": "2022-05-13T23:52:25.544117Z",
                    "shell.execute_reply": "2022-05-13T23:52:25.543577Z"
                },
                "papermill": {
                    "duration": 32.642743,
                    "end_time": "2022-05-13T23:52:25.544295",
                    "exception": false,
                    "start_time": "2022-05-13T23:51:52.901552",
                    "status": "completed"
                },
                "tags": []
            },
            "outputs": [
                {
                    "name": "stdout",
                    "output_type": "stream",
                    "text": [
                        "Loading pipeline...\n"
                    ]
                },
                {
                    "name": "stderr",
                    "output_type": "stream",
                    "text": [
                        "Building task 'load':   0%|          | 0/5 [00:00<?, ?it/s]\n",
                        "Executing:   0%|          | 0/8 [00:00<?, ?cell/s]\n",
                        "Executing:  12%|█▎        | 1/8 [00:02<00:16,  2.36s/cell]\n",
                        "Executing:  62%|██████▎   | 5/8 [00:02<00:01,  2.67cell/s]\n",
                        "Executing: 100%|██████████| 8/8 [00:03<00:00,  2.41cell/s]\n",
                        "Building task 'clean':  20%|██        | 1/5 [00:03<00:13,  3.35s/it]\n",
                        "Executing:   0%|          | 0/12 [00:00<?, ?cell/s]\n",
                        "Executing:   8%|▊         | 1/12 [00:02<00:26,  2.41s/cell]\n",
                        "Executing:  50%|█████     | 6/12 [00:02<00:02,  2.78cell/s]\n",
                        "Executing:  67%|██████▋   | 8/12 [00:05<00:02,  1.42cell/s]\n",
                        "Executing:  75%|███████▌  | 9/12 [00:05<00:01,  1.64cell/s]\n",
                        "Executing: 100%|██████████| 12/12 [00:06<00:00,  1.78cell/s]\n",
                        "Building task 'train-test-split':  40%|████      | 2/5 [00:10<00:16,  5.36s/it]\n",
                        "Executing:   0%|          | 0/9 [00:00<?, ?cell/s]\n",
                        "Executing:  11%|█         | 1/9 [00:01<00:14,  1.82s/cell]\n",
                        "Executing:  44%|████▍     | 4/9 [00:02<00:02,  2.39cell/s]\n",
                        "Executing: 100%|██████████| 9/9 [00:02<00:00,  3.41cell/s]\n",
                        "Building task 'linear-regression':  60%|██████    | 3/5 [00:12<00:08,  4.13s/it]\n",
                        "Executing:   0%|          | 0/10 [00:00<?, ?cell/s]\n",
                        "Executing:  10%|█         | 1/10 [00:02<00:24,  2.68s/cell]\n",
                        "Executing: 100%|██████████| 10/10 [00:03<00:00,  2.75cell/s]\n",
                        "Building task 'random-forest-regressor':  80%|████████  | 4/5 [00:16<00:03,  3.95s/it]\n",
                        "Executing:   0%|          | 0/7 [00:00<?, ?cell/s]\n",
                        "Executing:  14%|█▍        | 1/7 [00:02<00:15,  2.57s/cell]\n",
                        "Executing: 100%|██████████| 7/7 [00:09<00:00,  1.35s/cell]\n",
                        "Building task 'random-forest-regressor': 100%|██████████| 5/5 [00:25<00:00,  5.18s/it]\n"
                    ]
                },
                {
                    "name": "stdout",
                    "output_type": "stream",
                    "text": [
                        "name                     Ran?      Elapsed (s)    Percentage\n",
                        "-----------------------  ------  -------------  ------------\n",
                        "load                     True          3.33964       12.8978\n",
                        "clean                    True          6.76126       26.1121\n",
                        "train-test-split         True          2.65714       10.2619\n",
                        "linear-regression        True          3.66221       14.1435\n",
                        "random-forest-regressor  True          9.47297       36.5847\n"
                    ]
                }
            ],
            "source": [
                "%%sh\n",
                "ploomber build"
            ]
        },
        {
            "cell_type": "markdown",
            "id": "16a61f86",
            "metadata": {
                "papermill": {
                    "duration": 0.051396,
                    "end_time": "2022-05-13T23:52:25.646749",
                    "exception": false,
                    "start_time": "2022-05-13T23:52:25.595353",
                    "status": "completed"
                },
                "tags": []
            },
            "source": [
                "That's it! Now give it a try with one of your notebooks!"
            ]
        }
    ],
    "metadata": {
        "kernelspec": {
            "display_name": "Python 3 (ipykernel)",
            "language": "python",
            "name": "python3"
        },
        "language_info": {
            "codemirror_mode": {
                "name": "ipython",
                "version": 3
            },
            "file_extension": ".py",
            "mimetype": "text/x-python",
            "name": "python",
            "nbconvert_exporter": "python",
            "pygments_lexer": "ipython3",
            "version": "3.10.12"
        },
        "papermill": {
            "default_parameters": {},
            "duration": 63.24512,
            "end_time": "2022-05-13T23:52:25.914188",
            "environment_variables": {},
            "exception": null,
            "input_path": "guides/refactor/_build/readme_preprocessed.ipynb",
            "output_path": "guides/refactor/README.ipynb",
            "parameters": {},
            "start_time": "2022-05-13T23:51:22.669068",
            "version": "2.3.4"
        }
    },
    "nbformat": 4,
    "nbformat_minor": 5
}
