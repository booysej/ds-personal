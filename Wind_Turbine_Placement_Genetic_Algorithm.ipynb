{
  "nbformat": 4,
  "nbformat_minor": 0,
  "metadata": {
    "colab": {
      "provenance": [],
      "authorship_tag": "ABX9TyOMW0DNzefRUlK0HzLjzWw8",
      "include_colab_link": true
    },
    "kernelspec": {
      "name": "ir",
      "display_name": "R"
    },
    "language_info": {
      "name": "R"
    }
  },
  "cells": [
    {
      "cell_type": "markdown",
      "metadata": {
        "id": "view-in-github",
        "colab_type": "text"
      },
      "source": [
        "<a href=\"https://colab.research.google.com/github/booysej/ds-personal/blob/main/Wind_Turbine_Placement_Genetic_Algorithm.ipynb\" target=\"_parent\"><img src=\"https://colab.research.google.com/assets/colab-badge.svg\" alt=\"Open In Colab\"/></a>"
      ]
    },
    {
      "cell_type": "code",
      "execution_count": 2,
      "metadata": {
        "colab": {
          "base_uri": "https://localhost:8080/"
        },
        "id": "MLqw-4ZdKcR2",
        "outputId": "b1b79975-acda-4db4-aab9-95976885b3aa"
      },
      "outputs": [
        {
          "output_type": "stream",
          "name": "stderr",
          "text": [
            "Warning message in install.packages(c(\"genalg\", \"emoa\", \"ggplot2\", \"rgdal\", \"animation\")):\n",
            "“installation of package ‘animation’ had non-zero exit status”\n"
          ]
        }
      ],
      "source": [
        "install.packages(c(\"genalg\",\"emoa\",\"ggplot2\",\"rgdal\") ) # R Kernel Notebook"
      ]
    },
    {
      "cell_type": "code",
      "source": [
        "# Author: Jacques Booysen\n",
        "# Email: booysenjacques@gmail.com\n",
        "library(genalg)\n",
        "library(emoa)\n",
        "library(ggplot2)\n",
        "library(rgdal)"
      ],
      "metadata": {
        "id": "G6Y5mKuSLWkX"
      },
      "execution_count": 5,
      "outputs": []
    }
  ]
}