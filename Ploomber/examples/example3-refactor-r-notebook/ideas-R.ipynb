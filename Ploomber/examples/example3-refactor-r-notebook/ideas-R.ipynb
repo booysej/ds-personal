{
 "cells": [
  {
   "cell_type": "code",
   "execution_count": 2,
   "metadata": {
    "vscode": {
     "languageId": "r"
    }
   },
   "outputs": [],
   "source": [
    "# ast {lobstr}\tR Documentation\n",
    "# Display the abstract syntax tree\n",
    "# do somthing with above\n",
    "library(lobstr)"
   ]
  },
  {
   "cell_type": "code",
   "execution_count": null,
   "metadata": {
    "vscode": {
     "languageId": "r"
    }
   },
   "outputs": [],
   "source": [
    "# lobstr is a set of tools for inspecting R objects. \n",
    "# It is inspired by Python's built-in inspect module, \n",
    "# but follows R's functional programming paradigm rather than Python's object-oriented one."
   ]
  },
  {
   "cell_type": "code",
   "execution_count": 14,
   "metadata": {
    "vscode": {
     "languageId": "r"
    }
   },
   "outputs": [
    {
     "data": {
      "text/plain": [
       "\u001b[33mo\u001b[39m-\u001b[1m\u001b[35m`{`\u001b[39m\u001b[22m \n",
       "\\-\u001b[33mo\u001b[39m-\u001b[1m\u001b[35m`=`\u001b[39m\u001b[22m \n",
       "  +-\u001b[1m\u001b[35mdf\u001b[39m\u001b[22m \n",
       "  \\-\u001b[1m\u001b[35miris\u001b[39m\u001b[22m "
      ]
     },
     "metadata": {},
     "output_type": "display_data"
    }
   ],
   "source": [
    "# write some code\n",
    "ast({df = iris})"
   ]
  },
  {
   "cell_type": "code",
   "execution_count": 15,
   "metadata": {
    "vscode": {
     "languageId": "r"
    }
   },
   "outputs": [
    {
     "data": {
      "text/plain": [
       "1 "
      ]
     },
     "metadata": {},
     "output_type": "display_data"
    },
    {
     "data": {
      "text/plain": [
       "\u001b[1m\u001b[35mx\u001b[39m\u001b[22m "
      ]
     },
     "metadata": {},
     "output_type": "display_data"
    },
    {
     "data": {
      "text/plain": [
       "\u001b[33mo\u001b[39m-\u001b[1m\u001b[35mf\u001b[39m\u001b[22m "
      ]
     },
     "metadata": {},
     "output_type": "display_data"
    },
    {
     "data": {
      "text/plain": [
       "\u001b[33mo\u001b[39m-\u001b[1m\u001b[35mf\u001b[39m\u001b[22m \n",
       "+-\u001b[1m\u001b[35mx\u001b[39m\u001b[22m \n",
       "+-1 \n",
       "+-\u001b[33mo\u001b[39m-\u001b[1m\u001b[35mg\u001b[39m\u001b[22m \n",
       "\\-\u001b[33mo\u001b[39m-\u001b[1m\u001b[35mh\u001b[39m\u001b[22m \n",
       "  \\-\u001b[33mo\u001b[39m-\u001b[1m\u001b[35mi\u001b[39m\u001b[22m "
      ]
     },
     "metadata": {},
     "output_type": "display_data"
    },
    {
     "data": {
      "text/plain": [
       "\u001b[33mo\u001b[39m-\u001b[33mo\u001b[39m-\u001b[1m\u001b[35mf\u001b[39m\u001b[22m "
      ]
     },
     "metadata": {},
     "output_type": "display_data"
    },
    {
     "data": {
      "text/plain": [
       "\u001b[33mo\u001b[39m-\u001b[33mo\u001b[39m-\u001b[1m\u001b[35mf\u001b[39m\u001b[22m \n",
       "| \\-\u001b[1m\u001b[35mx\u001b[39m\u001b[22m \n",
       "\\-\u001b[1m\u001b[35my\u001b[39m\u001b[22m "
      ]
     },
     "metadata": {},
     "output_type": "display_data"
    },
    {
     "data": {
      "text/plain": [
       "\u001b[33mo\u001b[39m-\u001b[1m\u001b[35m`(`\u001b[39m\u001b[22m \n",
       "\\-\u001b[33mo\u001b[39m-\u001b[1m\u001b[35m`+`\u001b[39m\u001b[22m \n",
       "  +-\u001b[1m\u001b[35mx\u001b[39m\u001b[22m \n",
       "  \\-1 "
      ]
     },
     "metadata": {},
     "output_type": "display_data"
    },
    {
     "data": {
      "text/plain": [
       "\u001b[1m\u001b[35mx\u001b[39m\u001b[22m "
      ]
     },
     "metadata": {},
     "output_type": "display_data"
    },
    {
     "data": {
      "text/plain": [
       "\u001b[33mo\u001b[39m-\u001b[1m\u001b[35m`+`\u001b[39m\u001b[22m \n",
       "+-\u001b[33mo\u001b[39m-\u001b[1m\u001b[35m`+`\u001b[39m\u001b[22m \n",
       "| +-\u001b[1m\u001b[35ma\u001b[39m\u001b[22m \n",
       "| \\-\u001b[1m\u001b[35mb\u001b[39m\u001b[22m \n",
       "\\-\u001b[1m\u001b[35mc\u001b[39m\u001b[22m "
      ]
     },
     "metadata": {},
     "output_type": "display_data"
    },
    {
     "data": {
      "text/plain": [
       "\u001b[33mo\u001b[39m-\u001b[1m\u001b[35m`if`\u001b[39m\u001b[22m \n",
       "+-TRUE \n",
       "+-3 \n",
       "\\-4 "
      ]
     },
     "metadata": {},
     "output_type": "display_data"
    },
    {
     "data": {
      "text/plain": [
       "\u001b[33mo\u001b[39m-\u001b[1m\u001b[35m`<-`\u001b[39m\u001b[22m \n",
       "+-\u001b[1m\u001b[35my\u001b[39m\u001b[22m \n",
       "\\-\u001b[33mo\u001b[39m-\u001b[1m\u001b[35m`*`\u001b[39m\u001b[22m \n",
       "  +-\u001b[1m\u001b[35mx\u001b[39m\u001b[22m \n",
       "  \\-10 "
      ]
     },
     "metadata": {},
     "output_type": "display_data"
    },
    {
     "data": {
      "text/plain": [
       "\u001b[33mo\u001b[39m-\u001b[1m\u001b[35m`function`\u001b[39m\u001b[22m \n",
       "+-\u001b[33mo\u001b[39m-\u001b[3m\u001b[90mx\u001b[39m\u001b[23m = 1 \n",
       "| \\-\u001b[3m\u001b[90my\u001b[39m\u001b[23m = 2 \n",
       "+-\u001b[33mo\u001b[39m-\u001b[1m\u001b[35m`{`\u001b[39m\u001b[22m \n",
       "| \\-\u001b[33mo\u001b[39m-\u001b[1m\u001b[35m`+`\u001b[39m\u001b[22m \n",
       "|   +-\u001b[1m\u001b[35mx\u001b[39m\u001b[22m \n",
       "|   \\-\u001b[1m\u001b[35my\u001b[39m\u001b[22m \n",
       "\\-<inline srcref> "
      ]
     },
     "metadata": {},
     "output_type": "display_data"
    },
    {
     "data": {
      "text/plain": [
       "\u001b[33mo\u001b[39m-\u001b[1m\u001b[35m`+`\u001b[39m\u001b[22m \n",
       "+-\u001b[33mo\u001b[39m-\u001b[1m\u001b[35m`*`\u001b[39m\u001b[22m \n",
       "| +-1 \n",
       "| \\-2 \n",
       "\\-3 "
      ]
     },
     "metadata": {},
     "output_type": "display_data"
    },
    {
     "data": {
      "text/plain": [
       "\u001b[33mo\u001b[39m-\u001b[1m\u001b[35m`!`\u001b[39m\u001b[22m \n",
       "\\-\u001b[33mo\u001b[39m-\u001b[1m\u001b[35m`+`\u001b[39m\u001b[22m \n",
       "  +-1 \n",
       "  \\-\u001b[33mo\u001b[39m-\u001b[1m\u001b[35m`!`\u001b[39m\u001b[22m \n",
       "    \\-1 "
      ]
     },
     "metadata": {},
     "output_type": "display_data"
    },
    {
     "data": {
      "text/plain": [
       "1 "
      ]
     },
     "metadata": {},
     "output_type": "display_data"
    },
    {
     "data": {
      "text/plain": [
       "\u001b[1m\u001b[35mx\u001b[39m\u001b[22m "
      ]
     },
     "metadata": {},
     "output_type": "display_data"
    },
    {
     "data": {
      "text/plain": [
       "\u001b[33mo\u001b[39m-\u001b[1m\u001b[35mf\u001b[39m\u001b[22m "
      ]
     },
     "metadata": {},
     "output_type": "display_data"
    },
    {
     "data": {
      "text/plain": [
       "\u001b[33mo\u001b[39m-\u001b[1m\u001b[35mf\u001b[39m\u001b[22m \n",
       "+-\u001b[1m\u001b[35mx\u001b[39m\u001b[22m \n",
       "+-1 \n",
       "+-\u001b[33mo\u001b[39m-\u001b[1m\u001b[35mg\u001b[39m\u001b[22m \n",
       "\\-\u001b[33mo\u001b[39m-\u001b[1m\u001b[35mh\u001b[39m\u001b[22m \n",
       "  \\-\u001b[33mo\u001b[39m-\u001b[1m\u001b[35mi\u001b[39m\u001b[22m "
      ]
     },
     "metadata": {},
     "output_type": "display_data"
    },
    {
     "data": {
      "text/plain": [
       "\u001b[33mo\u001b[39m-\u001b[33mo\u001b[39m-\u001b[1m\u001b[35mf\u001b[39m\u001b[22m "
      ]
     },
     "metadata": {},
     "output_type": "display_data"
    },
    {
     "data": {
      "text/plain": [
       "\u001b[33mo\u001b[39m-\u001b[33mo\u001b[39m-\u001b[1m\u001b[35mf\u001b[39m\u001b[22m \n",
       "| \\-\u001b[1m\u001b[35mx\u001b[39m\u001b[22m \n",
       "\\-\u001b[1m\u001b[35my\u001b[39m\u001b[22m "
      ]
     },
     "metadata": {},
     "output_type": "display_data"
    },
    {
     "data": {
      "text/plain": [
       "\u001b[33mo\u001b[39m-\u001b[1m\u001b[35m`(`\u001b[39m\u001b[22m \n",
       "\\-\u001b[33mo\u001b[39m-\u001b[1m\u001b[35m`+`\u001b[39m\u001b[22m \n",
       "  +-\u001b[1m\u001b[35mx\u001b[39m\u001b[22m \n",
       "  \\-1 "
      ]
     },
     "metadata": {},
     "output_type": "display_data"
    },
    {
     "data": {
      "text/plain": [
       "\u001b[1m\u001b[35mx\u001b[39m\u001b[22m "
      ]
     },
     "metadata": {},
     "output_type": "display_data"
    },
    {
     "data": {
      "text/plain": [
       "\u001b[33mo\u001b[39m-\u001b[1m\u001b[35m`+`\u001b[39m\u001b[22m \n",
       "+-\u001b[33mo\u001b[39m-\u001b[1m\u001b[35m`+`\u001b[39m\u001b[22m \n",
       "| +-\u001b[1m\u001b[35ma\u001b[39m\u001b[22m \n",
       "| \\-\u001b[1m\u001b[35mb\u001b[39m\u001b[22m \n",
       "\\-\u001b[1m\u001b[35mc\u001b[39m\u001b[22m "
      ]
     },
     "metadata": {},
     "output_type": "display_data"
    },
    {
     "data": {
      "text/plain": [
       "\u001b[33mo\u001b[39m-\u001b[1m\u001b[35m`if`\u001b[39m\u001b[22m \n",
       "+-TRUE \n",
       "+-3 \n",
       "\\-4 "
      ]
     },
     "metadata": {},
     "output_type": "display_data"
    },
    {
     "data": {
      "text/plain": [
       "\u001b[33mo\u001b[39m-\u001b[1m\u001b[35m`<-`\u001b[39m\u001b[22m \n",
       "+-\u001b[1m\u001b[35my\u001b[39m\u001b[22m \n",
       "\\-\u001b[33mo\u001b[39m-\u001b[1m\u001b[35m`*`\u001b[39m\u001b[22m \n",
       "  +-\u001b[1m\u001b[35mx\u001b[39m\u001b[22m \n",
       "  \\-10 "
      ]
     },
     "metadata": {},
     "output_type": "display_data"
    },
    {
     "data": {
      "text/plain": [
       "\u001b[33mo\u001b[39m-\u001b[1m\u001b[35m`function`\u001b[39m\u001b[22m \n",
       "+-\u001b[33mo\u001b[39m-\u001b[3m\u001b[90mx\u001b[39m\u001b[23m = 1 \n",
       "| \\-\u001b[3m\u001b[90my\u001b[39m\u001b[23m = 2 \n",
       "+-\u001b[33mo\u001b[39m-\u001b[1m\u001b[35m`{`\u001b[39m\u001b[22m \n",
       "| \\-\u001b[33mo\u001b[39m-\u001b[1m\u001b[35m`+`\u001b[39m\u001b[22m \n",
       "|   +-\u001b[1m\u001b[35mx\u001b[39m\u001b[22m \n",
       "|   \\-\u001b[1m\u001b[35my\u001b[39m\u001b[22m \n",
       "\\-<inline srcref> "
      ]
     },
     "metadata": {},
     "output_type": "display_data"
    },
    {
     "data": {
      "text/plain": [
       "\u001b[33mo\u001b[39m-\u001b[1m\u001b[35m`+`\u001b[39m\u001b[22m \n",
       "+-\u001b[33mo\u001b[39m-\u001b[1m\u001b[35m`*`\u001b[39m\u001b[22m \n",
       "| +-1 \n",
       "| \\-2 \n",
       "\\-3 "
      ]
     },
     "metadata": {},
     "output_type": "display_data"
    },
    {
     "data": {
      "text/plain": [
       "\u001b[33mo\u001b[39m-\u001b[1m\u001b[35m`!`\u001b[39m\u001b[22m \n",
       "\\-\u001b[33mo\u001b[39m-\u001b[1m\u001b[35m`+`\u001b[39m\u001b[22m \n",
       "  +-1 \n",
       "  \\-\u001b[33mo\u001b[39m-\u001b[1m\u001b[35m`!`\u001b[39m\u001b[22m \n",
       "    \\-1 "
      ]
     },
     "metadata": {},
     "output_type": "display_data"
    }
   ],
   "source": [
    "# Leaves\n",
    "ast(1)\n",
    "ast(x)\n",
    "\n",
    "# Simple calls\n",
    "ast(f())\n",
    "ast(f(x, 1, g(), h(i())))\n",
    "ast(f()())\n",
    "ast(f(x)(y))\n",
    "\n",
    "ast((x + 1))\n",
    "\n",
    "# Displaying expression already stored in object\n",
    "x <- quote(a + b + c)\n",
    "ast(x)\n",
    "ast(!!x)\n",
    "\n",
    "# All operations have this same structure\n",
    "ast(if (TRUE) 3 else 4)\n",
    "ast(y <- x * 10)\n",
    "ast(function(x = 1, y = 2) { x + y } )\n",
    "\n",
    "# Operator precedence\n",
    "ast(1 * 2 + 3)\n",
    "ast(!1 + !1)# Leaves\n",
    "ast(1)\n",
    "ast(x)\n",
    "\n",
    "# Simple calls\n",
    "ast(f())\n",
    "ast(f(x, 1, g(), h(i())))\n",
    "ast(f()())\n",
    "ast(f(x)(y))\n",
    "\n",
    "ast((x + 1))\n",
    "\n",
    "# Displaying expression already stored in object\n",
    "x <- quote(a + b + c)\n",
    "ast(x)\n",
    "ast(!!x)\n",
    "\n",
    "# All operations have this same structure\n",
    "ast(if (TRUE) 3 else 4)\n",
    "ast(y <- x * 10)\n",
    "ast(function(x = 1, y = 2) { x + y } )\n",
    "\n",
    "# Operator precedence\n",
    "ast(1 * 2 + 3)\n",
    "ast(!1 + !1)"
   ]
  }
 ],
 "metadata": {
  "kernelspec": {
   "display_name": "R",
   "language": "R",
   "name": "ir"
  },
  "language_info": {
   "codemirror_mode": "r",
   "file_extension": ".r",
   "mimetype": "text/x-r-source",
   "name": "R",
   "pygments_lexer": "r",
   "version": "4.2.2"
  },
  "orig_nbformat": 4
 },
 "nbformat": 4,
 "nbformat_minor": 2
}
