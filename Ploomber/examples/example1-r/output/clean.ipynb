{
 "cells": [
  {
   "cell_type": "code",
   "execution_count": 1,
   "id": "b155098b",
   "metadata": {
    "execution": {
     "iopub.execute_input": "2023-07-11T15:50:21.197192Z",
     "iopub.status.busy": "2023-07-11T15:50:21.193924Z",
     "iopub.status.idle": "2023-07-11T15:50:21.293800Z",
     "shell.execute_reply": "2023-07-11T15:50:21.290898Z"
    },
    "papermill": {
     "duration": 0.111207,
     "end_time": "2023-07-11T15:50:21.297892",
     "exception": false,
     "start_time": "2023-07-11T15:50:21.186685",
     "status": "completed"
    },
    "tags": [
     "parameters"
    ]
   },
   "outputs": [],
   "source": [
    "upstream = list('raw')\n",
    "product = NULL"
   ]
  },
  {
   "cell_type": "code",
   "execution_count": 2,
   "id": "015badb3",
   "metadata": {
    "execution": {
     "iopub.execute_input": "2023-07-11T15:50:21.370316Z",
     "iopub.status.busy": "2023-07-11T15:50:21.309390Z",
     "iopub.status.idle": "2023-07-11T15:50:21.399269Z",
     "shell.execute_reply": "2023-07-11T15:50:21.395889Z"
    },
    "papermill": {
     "duration": 0.101893,
     "end_time": "2023-07-11T15:50:21.403416",
     "exception": false,
     "start_time": "2023-07-11T15:50:21.301523",
     "status": "completed"
    },
    "tags": [
     "injected-parameters"
    ]
   },
   "outputs": [],
   "source": [
    "# Parameters\n",
    "upstream = list(\"raw\" = list(\"nb\" = \"/Users/jacques/mnt/ds-personal/Ploomber/examples/example1-r/output/raw.ipynb\", \"data\" = \"/Users/jacques/mnt/ds-personal/Ploomber/examples/example1-r/output/raw.csv\"))\n",
    "product = list(\"nb\" = \"/Users/jacques/mnt/ds-personal/Ploomber/examples/example1-r/output/clean.ipynb\", \"data\" = \"/Users/jacques/mnt/ds-personal/Ploomber/examples/example1-r/output/clean.csv\")\n"
   ]
  },
  {
   "cell_type": "code",
   "execution_count": 3,
   "id": "6165f3ac",
   "metadata": {
    "execution": {
     "iopub.execute_input": "2023-07-11T15:50:21.424319Z",
     "iopub.status.busy": "2023-07-11T15:50:21.421072Z",
     "iopub.status.idle": "2023-07-11T15:50:21.454241Z",
     "shell.execute_reply": "2023-07-11T15:50:21.446959Z"
    },
    "papermill": {
     "duration": 0.055936,
     "end_time": "2023-07-11T15:50:21.462573",
     "exception": false,
     "start_time": "2023-07-11T15:50:21.406637",
     "status": "completed"
    },
    "tags": []
   },
   "outputs": [],
   "source": [
    "df = read.csv(upstream$raw$data)"
   ]
  },
  {
   "cell_type": "code",
   "execution_count": 4,
   "id": "afdb53f3",
   "metadata": {
    "execution": {
     "iopub.execute_input": "2023-07-11T15:50:21.479259Z",
     "iopub.status.busy": "2023-07-11T15:50:21.475740Z",
     "iopub.status.idle": "2023-07-11T15:50:21.652106Z",
     "shell.execute_reply": "2023-07-11T15:50:21.647735Z"
    },
    "papermill": {
     "duration": 0.188598,
     "end_time": "2023-07-11T15:50:21.656110",
     "exception": false,
     "start_time": "2023-07-11T15:50:21.467512",
     "status": "completed"
    },
    "tags": []
   },
   "outputs": [
    {
     "data": {
      "text/html": [
       "<table class=\"dataframe\">\n",
       "<caption>A data.frame: 138 × 6</caption>\n",
       "<thead>\n",
       "\t<tr><th></th><th scope=col>X</th><th scope=col>sepal_length</th><th scope=col>sepal_width</th><th scope=col>petal_length</th><th scope=col>petal_width</th><th scope=col>class</th></tr>\n",
       "\t<tr><th></th><th scope=col>&lt;int&gt;</th><th scope=col>&lt;dbl&gt;</th><th scope=col>&lt;dbl&gt;</th><th scope=col>&lt;dbl&gt;</th><th scope=col>&lt;dbl&gt;</th><th scope=col>&lt;chr&gt;</th></tr>\n",
       "</thead>\n",
       "<tbody>\n",
       "\t<tr><th scope=row>1</th><td> 1</td><td>5.1</td><td>3.5</td><td>1.4</td><td>0.2</td><td>setosa</td></tr>\n",
       "\t<tr><th scope=row>2</th><td> 2</td><td>4.9</td><td>3.0</td><td>1.4</td><td>0.2</td><td>setosa</td></tr>\n",
       "\t<tr><th scope=row>3</th><td> 3</td><td>4.7</td><td>3.2</td><td>1.3</td><td>0.2</td><td>setosa</td></tr>\n",
       "\t<tr><th scope=row>4</th><td> 4</td><td>4.6</td><td>3.1</td><td>1.5</td><td>0.2</td><td>setosa</td></tr>\n",
       "\t<tr><th scope=row>5</th><td> 5</td><td>5.0</td><td>3.6</td><td>1.4</td><td>0.2</td><td>setosa</td></tr>\n",
       "\t<tr><th scope=row>6</th><td> 6</td><td>5.4</td><td>3.9</td><td>1.7</td><td>0.4</td><td>setosa</td></tr>\n",
       "\t<tr><th scope=row>7</th><td> 7</td><td>4.6</td><td>3.4</td><td>1.4</td><td>0.3</td><td>setosa</td></tr>\n",
       "\t<tr><th scope=row>8</th><td> 8</td><td>5.0</td><td>3.4</td><td>1.5</td><td>0.2</td><td>setosa</td></tr>\n",
       "\t<tr><th scope=row>9</th><td> 9</td><td>4.4</td><td>2.9</td><td>1.4</td><td>0.2</td><td>setosa</td></tr>\n",
       "\t<tr><th scope=row>10</th><td>10</td><td>4.9</td><td>3.1</td><td>1.5</td><td>0.1</td><td>setosa</td></tr>\n",
       "\t<tr><th scope=row>11</th><td>11</td><td>5.4</td><td>3.7</td><td>1.5</td><td>0.2</td><td>setosa</td></tr>\n",
       "\t<tr><th scope=row>12</th><td>12</td><td>4.8</td><td>3.4</td><td>1.6</td><td>0.2</td><td>setosa</td></tr>\n",
       "\t<tr><th scope=row>13</th><td>13</td><td>4.8</td><td>3.0</td><td>1.4</td><td>0.1</td><td>setosa</td></tr>\n",
       "\t<tr><th scope=row>14</th><td>14</td><td>4.3</td><td>3.0</td><td>1.1</td><td>0.1</td><td>setosa</td></tr>\n",
       "\t<tr><th scope=row>15</th><td>15</td><td>5.8</td><td>4.0</td><td>1.2</td><td>0.2</td><td>setosa</td></tr>\n",
       "\t<tr><th scope=row>16</th><td>16</td><td>5.7</td><td>4.4</td><td>1.5</td><td>0.4</td><td>setosa</td></tr>\n",
       "\t<tr><th scope=row>17</th><td>17</td><td>5.4</td><td>3.9</td><td>1.3</td><td>0.4</td><td>setosa</td></tr>\n",
       "\t<tr><th scope=row>18</th><td>18</td><td>5.1</td><td>3.5</td><td>1.4</td><td>0.3</td><td>setosa</td></tr>\n",
       "\t<tr><th scope=row>19</th><td>19</td><td>5.7</td><td>3.8</td><td>1.7</td><td>0.3</td><td>setosa</td></tr>\n",
       "\t<tr><th scope=row>20</th><td>20</td><td>5.1</td><td>3.8</td><td>1.5</td><td>0.3</td><td>setosa</td></tr>\n",
       "\t<tr><th scope=row>21</th><td>21</td><td>5.4</td><td>3.4</td><td>1.7</td><td>0.2</td><td>setosa</td></tr>\n",
       "\t<tr><th scope=row>22</th><td>22</td><td>5.1</td><td>3.7</td><td>1.5</td><td>0.4</td><td>setosa</td></tr>\n",
       "\t<tr><th scope=row>23</th><td>23</td><td>4.6</td><td>3.6</td><td>1.0</td><td>0.2</td><td>setosa</td></tr>\n",
       "\t<tr><th scope=row>24</th><td>24</td><td>5.1</td><td>3.3</td><td>1.7</td><td>0.5</td><td>setosa</td></tr>\n",
       "\t<tr><th scope=row>25</th><td>25</td><td>4.8</td><td>3.4</td><td>1.9</td><td>0.2</td><td>setosa</td></tr>\n",
       "\t<tr><th scope=row>26</th><td>26</td><td>5.0</td><td>3.0</td><td>1.6</td><td>0.2</td><td>setosa</td></tr>\n",
       "\t<tr><th scope=row>27</th><td>27</td><td>5.0</td><td>3.4</td><td>1.6</td><td>0.4</td><td>setosa</td></tr>\n",
       "\t<tr><th scope=row>28</th><td>28</td><td>5.2</td><td>3.5</td><td>1.5</td><td>0.2</td><td>setosa</td></tr>\n",
       "\t<tr><th scope=row>29</th><td>29</td><td>5.2</td><td>3.4</td><td>1.4</td><td>0.2</td><td>setosa</td></tr>\n",
       "\t<tr><th scope=row>30</th><td>30</td><td>4.7</td><td>3.2</td><td>1.6</td><td>0.2</td><td>setosa</td></tr>\n",
       "\t<tr><th scope=row>⋮</th><td>⋮</td><td>⋮</td><td>⋮</td><td>⋮</td><td>⋮</td><td>⋮</td></tr>\n",
       "\t<tr><th scope=row>113</th><td>113</td><td>6.8</td><td>3.0</td><td>5.5</td><td>2.1</td><td>virginica</td></tr>\n",
       "\t<tr><th scope=row>114</th><td>114</td><td>5.7</td><td>2.5</td><td>5.0</td><td>2.0</td><td>virginica</td></tr>\n",
       "\t<tr><th scope=row>115</th><td>115</td><td>5.8</td><td>2.8</td><td>5.1</td><td>2.4</td><td>virginica</td></tr>\n",
       "\t<tr><th scope=row>116</th><td>116</td><td>6.4</td><td>3.2</td><td>5.3</td><td>2.3</td><td>virginica</td></tr>\n",
       "\t<tr><th scope=row>117</th><td>117</td><td>6.5</td><td>3.0</td><td>5.5</td><td>1.8</td><td>virginica</td></tr>\n",
       "\t<tr><th scope=row>120</th><td>120</td><td>6.0</td><td>2.2</td><td>5.0</td><td>1.5</td><td>virginica</td></tr>\n",
       "\t<tr><th scope=row>121</th><td>121</td><td>6.9</td><td>3.2</td><td>5.7</td><td>2.3</td><td>virginica</td></tr>\n",
       "\t<tr><th scope=row>122</th><td>122</td><td>5.6</td><td>2.8</td><td>4.9</td><td>2.0</td><td>virginica</td></tr>\n",
       "\t<tr><th scope=row>124</th><td>124</td><td>6.3</td><td>2.7</td><td>4.9</td><td>1.8</td><td>virginica</td></tr>\n",
       "\t<tr><th scope=row>125</th><td>125</td><td>6.7</td><td>3.3</td><td>5.7</td><td>2.1</td><td>virginica</td></tr>\n",
       "\t<tr><th scope=row>127</th><td>127</td><td>6.2</td><td>2.8</td><td>4.8</td><td>1.8</td><td>virginica</td></tr>\n",
       "\t<tr><th scope=row>128</th><td>128</td><td>6.1</td><td>3.0</td><td>4.9</td><td>1.8</td><td>virginica</td></tr>\n",
       "\t<tr><th scope=row>129</th><td>129</td><td>6.4</td><td>2.8</td><td>5.6</td><td>2.1</td><td>virginica</td></tr>\n",
       "\t<tr><th scope=row>133</th><td>133</td><td>6.4</td><td>2.8</td><td>5.6</td><td>2.2</td><td>virginica</td></tr>\n",
       "\t<tr><th scope=row>134</th><td>134</td><td>6.3</td><td>2.8</td><td>5.1</td><td>1.5</td><td>virginica</td></tr>\n",
       "\t<tr><th scope=row>135</th><td>135</td><td>6.1</td><td>2.6</td><td>5.6</td><td>1.4</td><td>virginica</td></tr>\n",
       "\t<tr><th scope=row>137</th><td>137</td><td>6.3</td><td>3.4</td><td>5.6</td><td>2.4</td><td>virginica</td></tr>\n",
       "\t<tr><th scope=row>138</th><td>138</td><td>6.4</td><td>3.1</td><td>5.5</td><td>1.8</td><td>virginica</td></tr>\n",
       "\t<tr><th scope=row>139</th><td>139</td><td>6.0</td><td>3.0</td><td>4.8</td><td>1.8</td><td>virginica</td></tr>\n",
       "\t<tr><th scope=row>140</th><td>140</td><td>6.9</td><td>3.1</td><td>5.4</td><td>2.1</td><td>virginica</td></tr>\n",
       "\t<tr><th scope=row>141</th><td>141</td><td>6.7</td><td>3.1</td><td>5.6</td><td>2.4</td><td>virginica</td></tr>\n",
       "\t<tr><th scope=row>142</th><td>142</td><td>6.9</td><td>3.1</td><td>5.1</td><td>2.3</td><td>virginica</td></tr>\n",
       "\t<tr><th scope=row>143</th><td>143</td><td>5.8</td><td>2.7</td><td>5.1</td><td>1.9</td><td>virginica</td></tr>\n",
       "\t<tr><th scope=row>144</th><td>144</td><td>6.8</td><td>3.2</td><td>5.9</td><td>2.3</td><td>virginica</td></tr>\n",
       "\t<tr><th scope=row>145</th><td>145</td><td>6.7</td><td>3.3</td><td>5.7</td><td>2.5</td><td>virginica</td></tr>\n",
       "\t<tr><th scope=row>146</th><td>146</td><td>6.7</td><td>3.0</td><td>5.2</td><td>2.3</td><td>virginica</td></tr>\n",
       "\t<tr><th scope=row>147</th><td>147</td><td>6.3</td><td>2.5</td><td>5.0</td><td>1.9</td><td>virginica</td></tr>\n",
       "\t<tr><th scope=row>148</th><td>148</td><td>6.5</td><td>3.0</td><td>5.2</td><td>2.0</td><td>virginica</td></tr>\n",
       "\t<tr><th scope=row>149</th><td>149</td><td>6.2</td><td>3.4</td><td>5.4</td><td>2.3</td><td>virginica</td></tr>\n",
       "\t<tr><th scope=row>150</th><td>150</td><td>5.9</td><td>3.0</td><td>5.1</td><td>1.8</td><td>virginica</td></tr>\n",
       "</tbody>\n",
       "</table>\n"
      ],
      "text/latex": [
       "A data.frame: 138 × 6\n",
       "\\begin{tabular}{r|llllll}\n",
       "  & X & sepal\\_length & sepal\\_width & petal\\_length & petal\\_width & class\\\\\n",
       "  & <int> & <dbl> & <dbl> & <dbl> & <dbl> & <chr>\\\\\n",
       "\\hline\n",
       "\t1 &  1 & 5.1 & 3.5 & 1.4 & 0.2 & setosa\\\\\n",
       "\t2 &  2 & 4.9 & 3.0 & 1.4 & 0.2 & setosa\\\\\n",
       "\t3 &  3 & 4.7 & 3.2 & 1.3 & 0.2 & setosa\\\\\n",
       "\t4 &  4 & 4.6 & 3.1 & 1.5 & 0.2 & setosa\\\\\n",
       "\t5 &  5 & 5.0 & 3.6 & 1.4 & 0.2 & setosa\\\\\n",
       "\t6 &  6 & 5.4 & 3.9 & 1.7 & 0.4 & setosa\\\\\n",
       "\t7 &  7 & 4.6 & 3.4 & 1.4 & 0.3 & setosa\\\\\n",
       "\t8 &  8 & 5.0 & 3.4 & 1.5 & 0.2 & setosa\\\\\n",
       "\t9 &  9 & 4.4 & 2.9 & 1.4 & 0.2 & setosa\\\\\n",
       "\t10 & 10 & 4.9 & 3.1 & 1.5 & 0.1 & setosa\\\\\n",
       "\t11 & 11 & 5.4 & 3.7 & 1.5 & 0.2 & setosa\\\\\n",
       "\t12 & 12 & 4.8 & 3.4 & 1.6 & 0.2 & setosa\\\\\n",
       "\t13 & 13 & 4.8 & 3.0 & 1.4 & 0.1 & setosa\\\\\n",
       "\t14 & 14 & 4.3 & 3.0 & 1.1 & 0.1 & setosa\\\\\n",
       "\t15 & 15 & 5.8 & 4.0 & 1.2 & 0.2 & setosa\\\\\n",
       "\t16 & 16 & 5.7 & 4.4 & 1.5 & 0.4 & setosa\\\\\n",
       "\t17 & 17 & 5.4 & 3.9 & 1.3 & 0.4 & setosa\\\\\n",
       "\t18 & 18 & 5.1 & 3.5 & 1.4 & 0.3 & setosa\\\\\n",
       "\t19 & 19 & 5.7 & 3.8 & 1.7 & 0.3 & setosa\\\\\n",
       "\t20 & 20 & 5.1 & 3.8 & 1.5 & 0.3 & setosa\\\\\n",
       "\t21 & 21 & 5.4 & 3.4 & 1.7 & 0.2 & setosa\\\\\n",
       "\t22 & 22 & 5.1 & 3.7 & 1.5 & 0.4 & setosa\\\\\n",
       "\t23 & 23 & 4.6 & 3.6 & 1.0 & 0.2 & setosa\\\\\n",
       "\t24 & 24 & 5.1 & 3.3 & 1.7 & 0.5 & setosa\\\\\n",
       "\t25 & 25 & 4.8 & 3.4 & 1.9 & 0.2 & setosa\\\\\n",
       "\t26 & 26 & 5.0 & 3.0 & 1.6 & 0.2 & setosa\\\\\n",
       "\t27 & 27 & 5.0 & 3.4 & 1.6 & 0.4 & setosa\\\\\n",
       "\t28 & 28 & 5.2 & 3.5 & 1.5 & 0.2 & setosa\\\\\n",
       "\t29 & 29 & 5.2 & 3.4 & 1.4 & 0.2 & setosa\\\\\n",
       "\t30 & 30 & 4.7 & 3.2 & 1.6 & 0.2 & setosa\\\\\n",
       "\t⋮ & ⋮ & ⋮ & ⋮ & ⋮ & ⋮ & ⋮\\\\\n",
       "\t113 & 113 & 6.8 & 3.0 & 5.5 & 2.1 & virginica\\\\\n",
       "\t114 & 114 & 5.7 & 2.5 & 5.0 & 2.0 & virginica\\\\\n",
       "\t115 & 115 & 5.8 & 2.8 & 5.1 & 2.4 & virginica\\\\\n",
       "\t116 & 116 & 6.4 & 3.2 & 5.3 & 2.3 & virginica\\\\\n",
       "\t117 & 117 & 6.5 & 3.0 & 5.5 & 1.8 & virginica\\\\\n",
       "\t120 & 120 & 6.0 & 2.2 & 5.0 & 1.5 & virginica\\\\\n",
       "\t121 & 121 & 6.9 & 3.2 & 5.7 & 2.3 & virginica\\\\\n",
       "\t122 & 122 & 5.6 & 2.8 & 4.9 & 2.0 & virginica\\\\\n",
       "\t124 & 124 & 6.3 & 2.7 & 4.9 & 1.8 & virginica\\\\\n",
       "\t125 & 125 & 6.7 & 3.3 & 5.7 & 2.1 & virginica\\\\\n",
       "\t127 & 127 & 6.2 & 2.8 & 4.8 & 1.8 & virginica\\\\\n",
       "\t128 & 128 & 6.1 & 3.0 & 4.9 & 1.8 & virginica\\\\\n",
       "\t129 & 129 & 6.4 & 2.8 & 5.6 & 2.1 & virginica\\\\\n",
       "\t133 & 133 & 6.4 & 2.8 & 5.6 & 2.2 & virginica\\\\\n",
       "\t134 & 134 & 6.3 & 2.8 & 5.1 & 1.5 & virginica\\\\\n",
       "\t135 & 135 & 6.1 & 2.6 & 5.6 & 1.4 & virginica\\\\\n",
       "\t137 & 137 & 6.3 & 3.4 & 5.6 & 2.4 & virginica\\\\\n",
       "\t138 & 138 & 6.4 & 3.1 & 5.5 & 1.8 & virginica\\\\\n",
       "\t139 & 139 & 6.0 & 3.0 & 4.8 & 1.8 & virginica\\\\\n",
       "\t140 & 140 & 6.9 & 3.1 & 5.4 & 2.1 & virginica\\\\\n",
       "\t141 & 141 & 6.7 & 3.1 & 5.6 & 2.4 & virginica\\\\\n",
       "\t142 & 142 & 6.9 & 3.1 & 5.1 & 2.3 & virginica\\\\\n",
       "\t143 & 143 & 5.8 & 2.7 & 5.1 & 1.9 & virginica\\\\\n",
       "\t144 & 144 & 6.8 & 3.2 & 5.9 & 2.3 & virginica\\\\\n",
       "\t145 & 145 & 6.7 & 3.3 & 5.7 & 2.5 & virginica\\\\\n",
       "\t146 & 146 & 6.7 & 3.0 & 5.2 & 2.3 & virginica\\\\\n",
       "\t147 & 147 & 6.3 & 2.5 & 5.0 & 1.9 & virginica\\\\\n",
       "\t148 & 148 & 6.5 & 3.0 & 5.2 & 2.0 & virginica\\\\\n",
       "\t149 & 149 & 6.2 & 3.4 & 5.4 & 2.3 & virginica\\\\\n",
       "\t150 & 150 & 5.9 & 3.0 & 5.1 & 1.8 & virginica\\\\\n",
       "\\end{tabular}\n"
      ],
      "text/markdown": [
       "\n",
       "A data.frame: 138 × 6\n",
       "\n",
       "| <!--/--> | X &lt;int&gt; | sepal_length &lt;dbl&gt; | sepal_width &lt;dbl&gt; | petal_length &lt;dbl&gt; | petal_width &lt;dbl&gt; | class &lt;chr&gt; |\n",
       "|---|---|---|---|---|---|---|\n",
       "| 1 |  1 | 5.1 | 3.5 | 1.4 | 0.2 | setosa |\n",
       "| 2 |  2 | 4.9 | 3.0 | 1.4 | 0.2 | setosa |\n",
       "| 3 |  3 | 4.7 | 3.2 | 1.3 | 0.2 | setosa |\n",
       "| 4 |  4 | 4.6 | 3.1 | 1.5 | 0.2 | setosa |\n",
       "| 5 |  5 | 5.0 | 3.6 | 1.4 | 0.2 | setosa |\n",
       "| 6 |  6 | 5.4 | 3.9 | 1.7 | 0.4 | setosa |\n",
       "| 7 |  7 | 4.6 | 3.4 | 1.4 | 0.3 | setosa |\n",
       "| 8 |  8 | 5.0 | 3.4 | 1.5 | 0.2 | setosa |\n",
       "| 9 |  9 | 4.4 | 2.9 | 1.4 | 0.2 | setosa |\n",
       "| 10 | 10 | 4.9 | 3.1 | 1.5 | 0.1 | setosa |\n",
       "| 11 | 11 | 5.4 | 3.7 | 1.5 | 0.2 | setosa |\n",
       "| 12 | 12 | 4.8 | 3.4 | 1.6 | 0.2 | setosa |\n",
       "| 13 | 13 | 4.8 | 3.0 | 1.4 | 0.1 | setosa |\n",
       "| 14 | 14 | 4.3 | 3.0 | 1.1 | 0.1 | setosa |\n",
       "| 15 | 15 | 5.8 | 4.0 | 1.2 | 0.2 | setosa |\n",
       "| 16 | 16 | 5.7 | 4.4 | 1.5 | 0.4 | setosa |\n",
       "| 17 | 17 | 5.4 | 3.9 | 1.3 | 0.4 | setosa |\n",
       "| 18 | 18 | 5.1 | 3.5 | 1.4 | 0.3 | setosa |\n",
       "| 19 | 19 | 5.7 | 3.8 | 1.7 | 0.3 | setosa |\n",
       "| 20 | 20 | 5.1 | 3.8 | 1.5 | 0.3 | setosa |\n",
       "| 21 | 21 | 5.4 | 3.4 | 1.7 | 0.2 | setosa |\n",
       "| 22 | 22 | 5.1 | 3.7 | 1.5 | 0.4 | setosa |\n",
       "| 23 | 23 | 4.6 | 3.6 | 1.0 | 0.2 | setosa |\n",
       "| 24 | 24 | 5.1 | 3.3 | 1.7 | 0.5 | setosa |\n",
       "| 25 | 25 | 4.8 | 3.4 | 1.9 | 0.2 | setosa |\n",
       "| 26 | 26 | 5.0 | 3.0 | 1.6 | 0.2 | setosa |\n",
       "| 27 | 27 | 5.0 | 3.4 | 1.6 | 0.4 | setosa |\n",
       "| 28 | 28 | 5.2 | 3.5 | 1.5 | 0.2 | setosa |\n",
       "| 29 | 29 | 5.2 | 3.4 | 1.4 | 0.2 | setosa |\n",
       "| 30 | 30 | 4.7 | 3.2 | 1.6 | 0.2 | setosa |\n",
       "| ⋮ | ⋮ | ⋮ | ⋮ | ⋮ | ⋮ | ⋮ |\n",
       "| 113 | 113 | 6.8 | 3.0 | 5.5 | 2.1 | virginica |\n",
       "| 114 | 114 | 5.7 | 2.5 | 5.0 | 2.0 | virginica |\n",
       "| 115 | 115 | 5.8 | 2.8 | 5.1 | 2.4 | virginica |\n",
       "| 116 | 116 | 6.4 | 3.2 | 5.3 | 2.3 | virginica |\n",
       "| 117 | 117 | 6.5 | 3.0 | 5.5 | 1.8 | virginica |\n",
       "| 120 | 120 | 6.0 | 2.2 | 5.0 | 1.5 | virginica |\n",
       "| 121 | 121 | 6.9 | 3.2 | 5.7 | 2.3 | virginica |\n",
       "| 122 | 122 | 5.6 | 2.8 | 4.9 | 2.0 | virginica |\n",
       "| 124 | 124 | 6.3 | 2.7 | 4.9 | 1.8 | virginica |\n",
       "| 125 | 125 | 6.7 | 3.3 | 5.7 | 2.1 | virginica |\n",
       "| 127 | 127 | 6.2 | 2.8 | 4.8 | 1.8 | virginica |\n",
       "| 128 | 128 | 6.1 | 3.0 | 4.9 | 1.8 | virginica |\n",
       "| 129 | 129 | 6.4 | 2.8 | 5.6 | 2.1 | virginica |\n",
       "| 133 | 133 | 6.4 | 2.8 | 5.6 | 2.2 | virginica |\n",
       "| 134 | 134 | 6.3 | 2.8 | 5.1 | 1.5 | virginica |\n",
       "| 135 | 135 | 6.1 | 2.6 | 5.6 | 1.4 | virginica |\n",
       "| 137 | 137 | 6.3 | 3.4 | 5.6 | 2.4 | virginica |\n",
       "| 138 | 138 | 6.4 | 3.1 | 5.5 | 1.8 | virginica |\n",
       "| 139 | 139 | 6.0 | 3.0 | 4.8 | 1.8 | virginica |\n",
       "| 140 | 140 | 6.9 | 3.1 | 5.4 | 2.1 | virginica |\n",
       "| 141 | 141 | 6.7 | 3.1 | 5.6 | 2.4 | virginica |\n",
       "| 142 | 142 | 6.9 | 3.1 | 5.1 | 2.3 | virginica |\n",
       "| 143 | 143 | 5.8 | 2.7 | 5.1 | 1.9 | virginica |\n",
       "| 144 | 144 | 6.8 | 3.2 | 5.9 | 2.3 | virginica |\n",
       "| 145 | 145 | 6.7 | 3.3 | 5.7 | 2.5 | virginica |\n",
       "| 146 | 146 | 6.7 | 3.0 | 5.2 | 2.3 | virginica |\n",
       "| 147 | 147 | 6.3 | 2.5 | 5.0 | 1.9 | virginica |\n",
       "| 148 | 148 | 6.5 | 3.0 | 5.2 | 2.0 | virginica |\n",
       "| 149 | 149 | 6.2 | 3.4 | 5.4 | 2.3 | virginica |\n",
       "| 150 | 150 | 5.9 | 3.0 | 5.1 | 1.8 | virginica |\n",
       "\n"
      ],
      "text/plain": [
       "    X   sepal_length sepal_width petal_length petal_width class    \n",
       "1    1  5.1          3.5         1.4          0.2         setosa   \n",
       "2    2  4.9          3.0         1.4          0.2         setosa   \n",
       "3    3  4.7          3.2         1.3          0.2         setosa   \n",
       "4    4  4.6          3.1         1.5          0.2         setosa   \n",
       "5    5  5.0          3.6         1.4          0.2         setosa   \n",
       "6    6  5.4          3.9         1.7          0.4         setosa   \n",
       "7    7  4.6          3.4         1.4          0.3         setosa   \n",
       "8    8  5.0          3.4         1.5          0.2         setosa   \n",
       "9    9  4.4          2.9         1.4          0.2         setosa   \n",
       "10  10  4.9          3.1         1.5          0.1         setosa   \n",
       "11  11  5.4          3.7         1.5          0.2         setosa   \n",
       "12  12  4.8          3.4         1.6          0.2         setosa   \n",
       "13  13  4.8          3.0         1.4          0.1         setosa   \n",
       "14  14  4.3          3.0         1.1          0.1         setosa   \n",
       "15  15  5.8          4.0         1.2          0.2         setosa   \n",
       "16  16  5.7          4.4         1.5          0.4         setosa   \n",
       "17  17  5.4          3.9         1.3          0.4         setosa   \n",
       "18  18  5.1          3.5         1.4          0.3         setosa   \n",
       "19  19  5.7          3.8         1.7          0.3         setosa   \n",
       "20  20  5.1          3.8         1.5          0.3         setosa   \n",
       "21  21  5.4          3.4         1.7          0.2         setosa   \n",
       "22  22  5.1          3.7         1.5          0.4         setosa   \n",
       "23  23  4.6          3.6         1.0          0.2         setosa   \n",
       "24  24  5.1          3.3         1.7          0.5         setosa   \n",
       "25  25  4.8          3.4         1.9          0.2         setosa   \n",
       "26  26  5.0          3.0         1.6          0.2         setosa   \n",
       "27  27  5.0          3.4         1.6          0.4         setosa   \n",
       "28  28  5.2          3.5         1.5          0.2         setosa   \n",
       "29  29  5.2          3.4         1.4          0.2         setosa   \n",
       "30  30  4.7          3.2         1.6          0.2         setosa   \n",
       "⋮   ⋮   ⋮            ⋮           ⋮            ⋮           ⋮        \n",
       "113 113 6.8          3.0         5.5          2.1         virginica\n",
       "114 114 5.7          2.5         5.0          2.0         virginica\n",
       "115 115 5.8          2.8         5.1          2.4         virginica\n",
       "116 116 6.4          3.2         5.3          2.3         virginica\n",
       "117 117 6.5          3.0         5.5          1.8         virginica\n",
       "120 120 6.0          2.2         5.0          1.5         virginica\n",
       "121 121 6.9          3.2         5.7          2.3         virginica\n",
       "122 122 5.6          2.8         4.9          2.0         virginica\n",
       "124 124 6.3          2.7         4.9          1.8         virginica\n",
       "125 125 6.7          3.3         5.7          2.1         virginica\n",
       "127 127 6.2          2.8         4.8          1.8         virginica\n",
       "128 128 6.1          3.0         4.9          1.8         virginica\n",
       "129 129 6.4          2.8         5.6          2.1         virginica\n",
       "133 133 6.4          2.8         5.6          2.2         virginica\n",
       "134 134 6.3          2.8         5.1          1.5         virginica\n",
       "135 135 6.1          2.6         5.6          1.4         virginica\n",
       "137 137 6.3          3.4         5.6          2.4         virginica\n",
       "138 138 6.4          3.1         5.5          1.8         virginica\n",
       "139 139 6.0          3.0         4.8          1.8         virginica\n",
       "140 140 6.9          3.1         5.4          2.1         virginica\n",
       "141 141 6.7          3.1         5.6          2.4         virginica\n",
       "142 142 6.9          3.1         5.1          2.3         virginica\n",
       "143 143 5.8          2.7         5.1          1.9         virginica\n",
       "144 144 6.8          3.2         5.9          2.3         virginica\n",
       "145 145 6.7          3.3         5.7          2.5         virginica\n",
       "146 146 6.7          3.0         5.2          2.3         virginica\n",
       "147 147 6.3          2.5         5.0          1.9         virginica\n",
       "148 148 6.5          3.0         5.2          2.0         virginica\n",
       "149 149 6.2          3.4         5.4          2.3         virginica\n",
       "150 150 5.9          3.0         5.1          1.8         virginica"
      ]
     },
     "metadata": {},
     "output_type": "display_data"
    }
   ],
   "source": [
    "# clean the outlier from the sepal_length column where \n",
    "# the values are bigger than 2 times the standard deviations from the mean\n",
    "the_sd = sd(df$sepal_length)\n",
    "the_mean = mean(df$sepal_length)\n",
    "df = df[df$sepal_length < the_mean + 1.5 * the_sd, ]\n",
    "df"
   ]
  },
  {
   "cell_type": "code",
   "execution_count": 5,
   "id": "ceefdbcc",
   "metadata": {
    "execution": {
     "iopub.execute_input": "2023-07-11T15:50:21.672512Z",
     "iopub.status.busy": "2023-07-11T15:50:21.669745Z",
     "iopub.status.idle": "2023-07-11T15:50:21.696706Z",
     "shell.execute_reply": "2023-07-11T15:50:21.693734Z"
    },
    "papermill": {
     "duration": 0.04154,
     "end_time": "2023-07-11T15:50:21.700738",
     "exception": false,
     "start_time": "2023-07-11T15:50:21.659198",
     "status": "completed"
    },
    "tags": []
   },
   "outputs": [],
   "source": [
    "write.csv(df, product$data)"
   ]
  }
 ],
 "metadata": {
  "jupytext": {
   "cell_metadata_filter": "tags,-all",
   "main_language": "R",
   "notebook_metadata_filter": "-all",
   "text_representation": {
    "extension": ".R",
    "format_name": "light"
   }
  },
  "kernelspec": {
   "display_name": "R",
   "language": "R",
   "name": "ir"
  },
  "language_info": {
   "codemirror_mode": "r",
   "file_extension": ".r",
   "mimetype": "text/x-r-source",
   "name": "R",
   "pygments_lexer": "r",
   "version": "4.2.2"
  },
  "papermill": {
   "duration": 2.348439,
   "end_time": "2023-07-11T15:50:21.833530",
   "exception": null,
   "input_path": "/var/folders/cf/bcm1lkdd07vblzcv6y97pd7m0000gn/T/tmpwh_3ecy6.ipynb",
   "output_path": "/Users/jacques/mnt/ds-personal/Ploomber/examples/example1-r/output/clean.ipynb",
   "parameters": {
    "product": {
     "data": "/Users/jacques/mnt/ds-personal/Ploomber/examples/example1-r/output/clean.csv",
     "nb": "/Users/jacques/mnt/ds-personal/Ploomber/examples/example1-r/output/clean.ipynb"
    },
    "upstream": {
     "raw": {
      "data": "/Users/jacques/mnt/ds-personal/Ploomber/examples/example1-r/output/raw.csv",
      "nb": "/Users/jacques/mnt/ds-personal/Ploomber/examples/example1-r/output/raw.ipynb"
     }
    }
   },
   "start_time": "2023-07-11T15:50:19.485091"
  }
 },
 "nbformat": 4,
 "nbformat_minor": 5
}