{
 "cells": [
  {
   "cell_type": "code",
   "execution_count": 1,
   "id": "6201b23d",
   "metadata": {
    "execution": {
     "iopub.execute_input": "2023-07-11T15:46:28.736490Z",
     "iopub.status.busy": "2023-07-11T15:46:28.733499Z",
     "iopub.status.idle": "2023-07-11T15:46:28.839282Z",
     "shell.execute_reply": "2023-07-11T15:46:28.836735Z"
    },
    "papermill": {
     "duration": 0.116517,
     "end_time": "2023-07-11T15:46:28.842804",
     "exception": false,
     "start_time": "2023-07-11T15:46:28.726287",
     "status": "completed"
    },
    "tags": [
     "parameters"
    ]
   },
   "outputs": [],
   "source": [
    "upstream = NULL\n",
    "product = NULL"
   ]
  },
  {
   "cell_type": "code",
   "execution_count": 2,
   "id": "71417e80",
   "metadata": {
    "execution": {
     "iopub.execute_input": "2023-07-11T15:46:28.921013Z",
     "iopub.status.busy": "2023-07-11T15:46:28.853573Z",
     "iopub.status.idle": "2023-07-11T15:46:28.944345Z",
     "shell.execute_reply": "2023-07-11T15:46:28.941765Z"
    },
    "papermill": {
     "duration": 0.102901,
     "end_time": "2023-07-11T15:46:28.950470",
     "exception": false,
     "start_time": "2023-07-11T15:46:28.847569",
     "status": "completed"
    },
    "tags": [
     "injected-parameters"
    ]
   },
   "outputs": [],
   "source": [
    "# Parameters\n",
    "product = list(\"nb\" = \"/Users/jacques/mnt/ds-personal/Ploomber/examples/example1-r/output/raw.ipynb\", \"data\" = \"/Users/jacques/mnt/ds-personal/Ploomber/examples/example1-r/output/raw.csv\")\n"
   ]
  },
  {
   "cell_type": "code",
   "execution_count": 3,
   "id": "6c1a1149",
   "metadata": {
    "execution": {
     "iopub.execute_input": "2023-07-11T15:46:28.963696Z",
     "iopub.status.busy": "2023-07-11T15:46:28.961206Z",
     "iopub.status.idle": "2023-07-11T15:46:29.082700Z",
     "shell.execute_reply": "2023-07-11T15:46:29.062659Z"
    },
    "papermill": {
     "duration": 0.136905,
     "end_time": "2023-07-11T15:46:29.090489",
     "exception": false,
     "start_time": "2023-07-11T15:46:28.953584",
     "status": "completed"
    },
    "tags": []
   },
   "outputs": [],
   "source": [
    "data(iris)\n",
    "colnames(iris) = list('sepal_length', 'sepal_width','petal_length', 'petal_width', 'class')\n",
    "if (!dir.exists('output')) dir.create('output')\n",
    "write.csv(iris, product$data)"
   ]
  }
 ],
 "metadata": {
  "jupytext": {
   "cell_metadata_filter": "tags,-all",
   "main_language": "R",
   "notebook_metadata_filter": "-all",
   "text_representation": {
    "extension": ".R",
    "format_name": "light"
   }
  },
  "kernelspec": {
   "display_name": "R",
   "language": "R",
   "name": "ir"
  },
  "language_info": {
   "codemirror_mode": "r",
   "file_extension": ".r",
   "mimetype": "text/x-r-source",
   "name": "R",
   "pygments_lexer": "r",
   "version": "4.2.2"
  },
  "papermill": {
   "duration": 2.938967,
   "end_time": "2023-07-11T15:46:29.334975",
   "exception": null,
   "input_path": "/var/folders/cf/bcm1lkdd07vblzcv6y97pd7m0000gn/T/tmp4z0au_90.ipynb",
   "output_path": "/Users/jacques/mnt/ds-personal/Ploomber/examples/example1-r/output/raw.ipynb",
   "parameters": {
    "product": {
     "data": "/Users/jacques/mnt/ds-personal/Ploomber/examples/example1-r/output/raw.csv",
     "nb": "/Users/jacques/mnt/ds-personal/Ploomber/examples/example1-r/output/raw.ipynb"
    }
   },
   "start_time": "2023-07-11T15:46:26.396008"
  }
 },
 "nbformat": 4,
 "nbformat_minor": 5
}