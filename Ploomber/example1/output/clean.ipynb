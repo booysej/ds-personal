{
 "cells": [
  {
   "cell_type": "code",
   "execution_count": 1,
   "id": "2c340667",
   "metadata": {
    "execution": {
     "iopub.execute_input": "2023-07-06T15:06:44.185679Z",
     "iopub.status.busy": "2023-07-06T15:06:44.183460Z",
     "iopub.status.idle": "2023-07-06T15:06:44.246289Z",
     "shell.execute_reply": "2023-07-06T15:06:44.244410Z"
    },
    "lines_to_next_cell": 2,
    "papermill": {
     "duration": 0.10757,
     "end_time": "2023-07-06T15:06:44.248931",
     "exception": false,
     "start_time": "2023-07-06T15:06:44.141361",
     "status": "completed"
    },
    "tags": [
     "parameters"
    ]
   },
   "outputs": [],
   "source": [
    "upstream = list('raw')\n",
    "product = NULL"
   ]
  },
  {
   "cell_type": "code",
   "execution_count": 2,
   "id": "d468e11c",
   "metadata": {
    "execution": {
     "iopub.execute_input": "2023-07-06T15:06:44.293179Z",
     "iopub.status.busy": "2023-07-06T15:06:44.254554Z",
     "iopub.status.idle": "2023-07-06T15:06:44.315450Z",
     "shell.execute_reply": "2023-07-06T15:06:44.313373Z"
    },
    "papermill": {
     "duration": 0.067538,
     "end_time": "2023-07-06T15:06:44.318190",
     "exception": false,
     "start_time": "2023-07-06T15:06:44.250652",
     "status": "completed"
    },
    "tags": [
     "injected-parameters"
    ]
   },
   "outputs": [],
   "source": [
    "# Parameters\n",
    "upstream = list(\"raw\" = list(\"nb\" = \"/Users/jacques/mnt/ds-personal/Ploomber/ploomber-spec-api-r/output/raw.html\", \"data\" = \"/Users/jacques/mnt/ds-personal/Ploomber/ploomber-spec-api-r/output/raw.csv\"))\n",
    "product = list(\"nb\" = \"/Users/jacques/mnt/ds-personal/Ploomber/ploomber-spec-api-r/output/clean.ipynb\", \"data\" = \"/Users/jacques/mnt/ds-personal/Ploomber/ploomber-spec-api-r/output/clean.csv\")\n"
   ]
  },
  {
   "cell_type": "code",
   "execution_count": 3,
   "id": "7a2c3e2b",
   "metadata": {
    "execution": {
     "iopub.execute_input": "2023-07-06T15:06:44.325480Z",
     "iopub.status.busy": "2023-07-06T15:06:44.324126Z",
     "iopub.status.idle": "2023-07-06T15:06:44.341212Z",
     "shell.execute_reply": "2023-07-06T15:06:44.339318Z"
    },
    "papermill": {
     "duration": 0.023706,
     "end_time": "2023-07-06T15:06:44.343418",
     "exception": false,
     "start_time": "2023-07-06T15:06:44.319712",
     "status": "completed"
    },
    "tags": []
   },
   "outputs": [],
   "source": [
    "df = read.csv(upstream$raw$data)\n",
    "write.csv(df, product$data)"
   ]
  }
 ],
 "metadata": {
  "jupytext": {
   "cell_metadata_filter": "tags,-all",
   "main_language": "R",
   "notebook_metadata_filter": "-all",
   "text_representation": {
    "extension": ".R",
    "format_name": "light"
   }
  },
  "kernelspec": {
   "display_name": "R",
   "language": "R",
   "name": "ir"
  },
  "language_info": {
   "codemirror_mode": "r",
   "file_extension": ".r",
   "mimetype": "text/x-r-source",
   "name": "R",
   "pygments_lexer": "r",
   "version": "4.2.2"
  },
  "papermill": {
   "duration": 1.339392,
   "end_time": "2023-07-06T15:06:44.466046",
   "exception": null,
   "input_path": "/var/folders/cf/bcm1lkdd07vblzcv6y97pd7m0000gn/T/tmptc67xp8f.ipynb",
   "output_path": "/Users/jacques/mnt/ds-personal/Ploomber/ploomber-spec-api-r/output/clean.ipynb",
   "parameters": {
    "product": {
     "data": "/Users/jacques/mnt/ds-personal/Ploomber/ploomber-spec-api-r/output/clean.csv",
     "nb": "/Users/jacques/mnt/ds-personal/Ploomber/ploomber-spec-api-r/output/clean.ipynb"
    },
    "upstream": {
     "raw": {
      "data": "/Users/jacques/mnt/ds-personal/Ploomber/ploomber-spec-api-r/output/raw.csv",
      "nb": "/Users/jacques/mnt/ds-personal/Ploomber/ploomber-spec-api-r/output/raw.html"
     }
    }
   },
   "start_time": "2023-07-06T15:06:43.126654"
  }
 },
 "nbformat": 4,
 "nbformat_minor": 5
}